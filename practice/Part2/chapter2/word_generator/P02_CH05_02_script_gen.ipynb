{
 "cells": [
  {
   "cell_type": "code",
   "execution_count": 40,
   "id": "65b2be14-007d-443b-8a1a-f2e30375bdb0",
   "metadata": {},
   "outputs": [],
   "source": [
    "import json\n",
    "from typing import List\n",
    "\n",
    "from tqdm.notebook import tqdm\n",
    "from langchain_core.prompts import PromptTemplate, ChatPromptTemplate\n",
    "from langchain_core.runnables import RunnableParallel, RunnablePassthrough\n",
    "from langchain_openai import ChatOpenAI\n",
    "from langchain_core.output_parsers import JsonOutputParser\n",
    "from langchain.pydantic_v1 import BaseModel, Field\n",
    "from langchain.schema import HumanMessage, AIMessage, StrOutputParser\n",
    "import pandas as pd"
   ]
  },
  {
   "cell_type": "code",
   "execution_count": 41,
   "id": "7291e563-8f23-4da7-b71b-de8853150347",
   "metadata": {},
   "outputs": [],
   "source": [
    "model = ChatOpenAI(model=\"gpt-3.5-turbo\", temperature=1.0)"
   ]
  },
  {
   "cell_type": "code",
   "execution_count": 42,
   "id": "bf4509ff-b81f-4099-976d-45d5854c4316",
   "metadata": {},
   "outputs": [],
   "source": [
    "class Turn(BaseModel):\n",
    "    role: str = Field(\"사람 이름\")\n",
    "    content: str = Field(\"대화 내용\")\n",
    "    \n",
    "class Conversation(BaseModel):\n",
    "    conversation: List[Turn] = Field(\"두 사람의 대화 내용\")"
   ]
  },
  {
   "cell_type": "code",
   "execution_count": 43,
   "id": "d4c85298-b91a-4488-a94c-ba7ece8f1e72",
   "metadata": {},
   "outputs": [],
   "source": [
    "parser = JsonOutputParser(pydantic_object=Conversation)"
   ]
  },
  {
   "cell_type": "code",
   "execution_count": 44,
   "id": "fb71ecf8-445f-46e8-b4bf-5debd89148f9",
   "metadata": {},
   "outputs": [],
   "source": [
    "format_instruction = parser.get_format_instructions()"
   ]
  },
  {
   "cell_type": "markdown",
   "id": "843c5f07-fd2b-4758-8381-cf6301d80f34",
   "metadata": {},
   "source": [
    "## Fewshot Example 만들기"
   ]
  },
  {
   "cell_type": "code",
   "execution_count": 45,
   "id": "8beda20e-6f9f-42ac-8285-c679a25915a9",
   "metadata": {},
   "outputs": [],
   "source": [
    "#대화 내용을 성공적으로 만들기 위해 프롬프트 설정.\n",
    "prompt_template = PromptTemplate.from_template(template=\"영어 단어'{input}'에 대한 실생활 사용 예시 대화를 만들어줘. 아래 포맷으로 출력해줘.\\n{format_instruction}\",\n",
    "                                               partial_variables={\"format_instruction\": format_instruction})"
   ]
  },
  {
   "cell_type": "code",
   "execution_count": 46,
   "id": "e3ab3d8e-bd80-4b03-aae9-a0fd5967517b",
   "metadata": {},
   "outputs": [],
   "source": [
    "#{\"input\": RunnablePassthrough()} 인풋을 그 상태 그대로 체인에 입력.\n",
    "chain = {\"input\": RunnablePassthrough()}| prompt_template | model | parser"
   ]
  },
  {
   "cell_type": "code",
   "execution_count": 47,
   "id": "b7e67897-b44a-46f6-8d3c-f87b5afb1818",
   "metadata": {},
   "outputs": [],
   "source": [
    "#단어 \"request\"를 활용한 실생활 대화 추출.\n",
    "example_1 = chain.invoke(\"request\")"
   ]
  },
  {
   "cell_type": "code",
   "execution_count": 48,
   "id": "5e610172-fdee-4c42-8c91-1f08128b25f8",
   "metadata": {},
   "outputs": [
    {
     "data": {
      "text/plain": [
       "{'conversation': [{'role': 'A', 'content': 'Can I make a request?'},\n",
       "  {'role': 'B', 'content': 'Sure, what do you need?'},\n",
       "  {'role': 'A', 'content': 'I request that you help me with my project.'},\n",
       "  {'role': 'B', 'content': \"Of course, I'd be happy to help.\"}]}"
      ]
     },
     "execution_count": 48,
     "metadata": {},
     "output_type": "execute_result"
    }
   ],
   "source": [
    "example_1"
   ]
  },
  {
   "cell_type": "code",
   "execution_count": 49,
   "id": "76c7ded9-a987-4ad4-bbb3-73c6d7d4c3b0",
   "metadata": {},
   "outputs": [],
   "source": [
    "example_2 = chain.invoke(\"have\")"
   ]
  },
  {
   "cell_type": "code",
   "execution_count": 50,
   "id": "0e568b0d-f656-4589-a674-ad228250665a",
   "metadata": {},
   "outputs": [
    {
     "data": {
      "text/plain": [
       "{'conversation': [{'role': 'Aiden',\n",
       "   'content': 'I have a meeting at 2 PM. Can we reschedule our lunch?'},\n",
       "  {'role': 'Sophia',\n",
       "   'content': 'Sure, I have some free time in the afternoon. How about 4 PM?'}]}"
      ]
     },
     "execution_count": 50,
     "metadata": {},
     "output_type": "execute_result"
    }
   ],
   "source": [
    "example_2"
   ]
  },
  {
   "cell_type": "markdown",
   "id": "e4f74f61-5ec4-4c9c-9f4c-8967c97d7637",
   "metadata": {},
   "source": [
    "## Fewshot Example 적용해서 샘플링하기"
   ]
  },
  {
   "cell_type": "code",
   "execution_count": 51,
   "id": "df6ed5c0-8444-4c96-ad62-0a0a81e7e8e3",
   "metadata": {},
   "outputs": [],
   "source": [
    "#fewshot example을 적용하기 위해 대화 예제를 json형태로 파싱하기 위한 변수 선언.\n",
    "example_1_json = json.dumps(example_1)\n",
    "example_2_json = json.dumps(example_2)"
   ]
  },
  {
   "cell_type": "code",
   "execution_count": 52,
   "id": "6353e5c7-24ed-4135-a381-be99f411914b",
   "metadata": {},
   "outputs": [
    {
     "data": {
      "text/plain": [
       "'{\"conversation\": [{\"role\": \"A\", \"content\": \"Can I make a request?\"}, {\"role\": \"B\", \"content\": \"Sure, what do you need?\"}, {\"role\": \"A\", \"content\": \"I request that you help me with my project.\"}, {\"role\": \"B\", \"content\": \"Of course, I\\'d be happy to help.\"}]}'"
      ]
     },
     "execution_count": 52,
     "metadata": {},
     "output_type": "execute_result"
    }
   ],
   "source": [
    "example_1_json"
   ]
  },
  {
   "cell_type": "code",
   "execution_count": 53,
   "id": "e16b4f5b-4d43-4c16-ac73-e7056bfe2ef9",
   "metadata": {},
   "outputs": [
    {
     "data": {
      "text/plain": [
       "'{\"conversation\": [{\"role\": \"Aiden\", \"content\": \"I have a meeting at 2 PM. Can we reschedule our lunch?\"}, {\"role\": \"Sophia\", \"content\": \"Sure, I have some free time in the afternoon. How about 4 PM?\"}]}'"
      ]
     },
     "execution_count": 53,
     "metadata": {},
     "output_type": "execute_result"
    }
   ],
   "source": [
    "example_2_json"
   ]
  },
  {
   "cell_type": "code",
   "execution_count": 54,
   "id": "cf4a86b5-1a9e-4d2b-a4d8-3b9f8ee38156",
   "metadata": {},
   "outputs": [
    {
     "data": {
      "text/plain": [
       "str"
      ]
     },
     "execution_count": 54,
     "metadata": {},
     "output_type": "execute_result"
    }
   ],
   "source": [
    "type(example_1_json)"
   ]
  },
  {
   "cell_type": "code",
   "execution_count": 55,
   "id": "b220dbcc-86b3-4fa5-a941-f702ab7fa00e",
   "metadata": {},
   "outputs": [],
   "source": [
    "msgs = [\n",
    "    (\"human\", \"영어 단어'request'에 대한 실생활 사용 예시 대화를 만들어줘. 아래 포맷으로 출력해줘.\\n{format_instruction}\"),\n",
    "    (\"ai\", \"{example_1_json}\"),\n",
    "    (\"human\", \"영어 단어'have'에 대한 실생활 사용 예시 대화를 만들어줘. 아래 포맷으로 출력해줘.\\n{format_instruction}\"),\n",
    "    (\"ai\", \"{example_2_json}\"),\n",
    "    (\"human\", \"영어 단어'{input}'에 대한 실생화 사용 예시 대화를 만들어줘. 아래 포맷으로 출력해줘.\\n{format_instruction}\") #{input}은 외부에서 입력된 값을 invoke 해서 가져오게 됨.\n",
    "]"
   ]
  },
  {
   "cell_type": "code",
   "execution_count": 56,
   "id": "34e128cc-3ecb-484c-acbb-9ab650f0ff5c",
   "metadata": {},
   "outputs": [],
   "source": [
    "chat_prompt_template = ChatPromptTemplate.from_messages(msgs)"
   ]
  },
  {
   "cell_type": "code",
   "execution_count": 57,
   "id": "ce42fb2d-ed9e-4485-8fed-07b4afac0f70",
   "metadata": {},
   "outputs": [],
   "source": [
    "#json 형식으로 parsing 할때 중괄호가 들어가면 랭체인에서 인식에 오류가 생기므로, 랭체인에서 json형식을 그대로 parsing할 수 있도록 lambda로 설정.\n",
    "fewshot_chain = {\"input\": RunnablePassthrough(),\n",
    "                 \"format_instruction\": lambda _:format_instruction,\n",
    "                 \"example_1_json\": lambda _:example_1_json, \n",
    "                 \"example_2_json\": lambda _:example_2_json}  | chat_prompt_template | model | parser"
   ]
  },
  {
   "cell_type": "code",
   "execution_count": 58,
   "id": "66d8d526-4269-41d2-a89a-8e06653aec5e",
   "metadata": {},
   "outputs": [
    {
     "data": {
      "text/plain": [
       "{'conversation': [{'role': 'Liam',\n",
       "   'content': 'I have multiple tasks to complete by the end of the day.'},\n",
       "  {'role': 'Ella',\n",
       "   'content': \"I can help you with some of them. Let's divide and conquer.\"},\n",
       "  {'role': 'Liam',\n",
       "   'content': 'That would be great. Thank you for offering your assistance.'}]}"
      ]
     },
     "execution_count": 58,
     "metadata": {},
     "output_type": "execute_result"
    }
   ],
   "source": [
    "out = fewshot_chain.invoke(\"multiple\")\n",
    "out"
   ]
  },
  {
   "cell_type": "markdown",
   "id": "d4a23933-7237-4067-a2a3-0ab7c21f84bb",
   "metadata": {},
   "source": [
    "## Load Excel and Save"
   ]
  },
  {
   "cell_type": "code",
   "execution_count": 59,
   "id": "c3cd3198-9823-4fe0-b620-adcdf72c31f6",
   "metadata": {},
   "outputs": [],
   "source": [
    "df = pd.read_excel(\"./words.xlsx\")"
   ]
  },
  {
   "cell_type": "code",
   "execution_count": 33,
   "id": "495a91f0-3037-4d6d-9e76-e3edf0a23b50",
   "metadata": {},
   "outputs": [
    {
     "ename": "KeyError",
     "evalue": "\"['usage'] not found in axis\"",
     "output_type": "error",
     "traceback": [
      "\u001b[1;31m---------------------------------------------------------------\u001b[0m",
      "\u001b[1;31mKeyError\u001b[0m                      Traceback (most recent call last)",
      "Cell \u001b[1;32mIn[33], line 1\u001b[0m\n\u001b[1;32m----> 1\u001b[0m df \u001b[38;5;241m=\u001b[39m \u001b[43mdf\u001b[49m\u001b[38;5;241;43m.\u001b[39;49m\u001b[43mdrop\u001b[49m\u001b[43m(\u001b[49m\u001b[43mcolumns\u001b[49m\u001b[38;5;241;43m=\u001b[39;49m\u001b[43m[\u001b[49m\u001b[38;5;124;43m\"\u001b[39;49m\u001b[38;5;124;43musage\u001b[39;49m\u001b[38;5;124;43m\"\u001b[39;49m\u001b[43m]\u001b[49m\u001b[43m)\u001b[49m \u001b[38;5;66;03m#미리 만들어진 예제 삭제.\u001b[39;00m\n",
      "File \u001b[1;32m~\\miniconda3\\Lib\\site-packages\\pandas\\core\\frame.py:5581\u001b[0m, in \u001b[0;36mDataFrame.drop\u001b[1;34m(self, labels, axis, index, columns, level, inplace, errors)\u001b[0m\n\u001b[0;32m   5433\u001b[0m \u001b[38;5;28;01mdef\u001b[39;00m\u001b[38;5;250m \u001b[39m\u001b[38;5;21mdrop\u001b[39m(\n\u001b[0;32m   5434\u001b[0m     \u001b[38;5;28mself\u001b[39m,\n\u001b[0;32m   5435\u001b[0m     labels: IndexLabel \u001b[38;5;241m|\u001b[39m \u001b[38;5;28;01mNone\u001b[39;00m \u001b[38;5;241m=\u001b[39m \u001b[38;5;28;01mNone\u001b[39;00m,\n\u001b[1;32m   (...)\u001b[0m\n\u001b[0;32m   5442\u001b[0m     errors: IgnoreRaise \u001b[38;5;241m=\u001b[39m \u001b[38;5;124m\"\u001b[39m\u001b[38;5;124mraise\u001b[39m\u001b[38;5;124m\"\u001b[39m,\n\u001b[0;32m   5443\u001b[0m ) \u001b[38;5;241m-\u001b[39m\u001b[38;5;241m>\u001b[39m DataFrame \u001b[38;5;241m|\u001b[39m \u001b[38;5;28;01mNone\u001b[39;00m:\n\u001b[0;32m   5444\u001b[0m \u001b[38;5;250m    \u001b[39m\u001b[38;5;124;03m\"\"\"\u001b[39;00m\n\u001b[0;32m   5445\u001b[0m \u001b[38;5;124;03m    Drop specified labels from rows or columns.\u001b[39;00m\n\u001b[0;32m   5446\u001b[0m \n\u001b[1;32m   (...)\u001b[0m\n\u001b[0;32m   5579\u001b[0m \u001b[38;5;124;03m            weight  1.0     0.8\u001b[39;00m\n\u001b[0;32m   5580\u001b[0m \u001b[38;5;124;03m    \"\"\"\u001b[39;00m\n\u001b[1;32m-> 5581\u001b[0m     \u001b[38;5;28;01mreturn\u001b[39;00m \u001b[38;5;28;43msuper\u001b[39;49m\u001b[43m(\u001b[49m\u001b[43m)\u001b[49m\u001b[38;5;241;43m.\u001b[39;49m\u001b[43mdrop\u001b[49m\u001b[43m(\u001b[49m\n\u001b[0;32m   5582\u001b[0m \u001b[43m        \u001b[49m\u001b[43mlabels\u001b[49m\u001b[38;5;241;43m=\u001b[39;49m\u001b[43mlabels\u001b[49m\u001b[43m,\u001b[49m\n\u001b[0;32m   5583\u001b[0m \u001b[43m        \u001b[49m\u001b[43maxis\u001b[49m\u001b[38;5;241;43m=\u001b[39;49m\u001b[43maxis\u001b[49m\u001b[43m,\u001b[49m\n\u001b[0;32m   5584\u001b[0m \u001b[43m        \u001b[49m\u001b[43mindex\u001b[49m\u001b[38;5;241;43m=\u001b[39;49m\u001b[43mindex\u001b[49m\u001b[43m,\u001b[49m\n\u001b[0;32m   5585\u001b[0m \u001b[43m        \u001b[49m\u001b[43mcolumns\u001b[49m\u001b[38;5;241;43m=\u001b[39;49m\u001b[43mcolumns\u001b[49m\u001b[43m,\u001b[49m\n\u001b[0;32m   5586\u001b[0m \u001b[43m        \u001b[49m\u001b[43mlevel\u001b[49m\u001b[38;5;241;43m=\u001b[39;49m\u001b[43mlevel\u001b[49m\u001b[43m,\u001b[49m\n\u001b[0;32m   5587\u001b[0m \u001b[43m        \u001b[49m\u001b[43minplace\u001b[49m\u001b[38;5;241;43m=\u001b[39;49m\u001b[43minplace\u001b[49m\u001b[43m,\u001b[49m\n\u001b[0;32m   5588\u001b[0m \u001b[43m        \u001b[49m\u001b[43merrors\u001b[49m\u001b[38;5;241;43m=\u001b[39;49m\u001b[43merrors\u001b[49m\u001b[43m,\u001b[49m\n\u001b[0;32m   5589\u001b[0m \u001b[43m    \u001b[49m\u001b[43m)\u001b[49m\n",
      "File \u001b[1;32m~\\miniconda3\\Lib\\site-packages\\pandas\\core\\generic.py:4788\u001b[0m, in \u001b[0;36mNDFrame.drop\u001b[1;34m(self, labels, axis, index, columns, level, inplace, errors)\u001b[0m\n\u001b[0;32m   4786\u001b[0m \u001b[38;5;28;01mfor\u001b[39;00m axis, labels \u001b[38;5;129;01min\u001b[39;00m axes\u001b[38;5;241m.\u001b[39mitems():\n\u001b[0;32m   4787\u001b[0m     \u001b[38;5;28;01mif\u001b[39;00m labels \u001b[38;5;129;01mis\u001b[39;00m \u001b[38;5;129;01mnot\u001b[39;00m \u001b[38;5;28;01mNone\u001b[39;00m:\n\u001b[1;32m-> 4788\u001b[0m         obj \u001b[38;5;241m=\u001b[39m \u001b[43mobj\u001b[49m\u001b[38;5;241;43m.\u001b[39;49m\u001b[43m_drop_axis\u001b[49m\u001b[43m(\u001b[49m\u001b[43mlabels\u001b[49m\u001b[43m,\u001b[49m\u001b[43m \u001b[49m\u001b[43maxis\u001b[49m\u001b[43m,\u001b[49m\u001b[43m \u001b[49m\u001b[43mlevel\u001b[49m\u001b[38;5;241;43m=\u001b[39;49m\u001b[43mlevel\u001b[49m\u001b[43m,\u001b[49m\u001b[43m \u001b[49m\u001b[43merrors\u001b[49m\u001b[38;5;241;43m=\u001b[39;49m\u001b[43merrors\u001b[49m\u001b[43m)\u001b[49m\n\u001b[0;32m   4790\u001b[0m \u001b[38;5;28;01mif\u001b[39;00m inplace:\n\u001b[0;32m   4791\u001b[0m     \u001b[38;5;28mself\u001b[39m\u001b[38;5;241m.\u001b[39m_update_inplace(obj)\n",
      "File \u001b[1;32m~\\miniconda3\\Lib\\site-packages\\pandas\\core\\generic.py:4830\u001b[0m, in \u001b[0;36mNDFrame._drop_axis\u001b[1;34m(self, labels, axis, level, errors, only_slice)\u001b[0m\n\u001b[0;32m   4828\u001b[0m         new_axis \u001b[38;5;241m=\u001b[39m axis\u001b[38;5;241m.\u001b[39mdrop(labels, level\u001b[38;5;241m=\u001b[39mlevel, errors\u001b[38;5;241m=\u001b[39merrors)\n\u001b[0;32m   4829\u001b[0m     \u001b[38;5;28;01melse\u001b[39;00m:\n\u001b[1;32m-> 4830\u001b[0m         new_axis \u001b[38;5;241m=\u001b[39m \u001b[43maxis\u001b[49m\u001b[38;5;241;43m.\u001b[39;49m\u001b[43mdrop\u001b[49m\u001b[43m(\u001b[49m\u001b[43mlabels\u001b[49m\u001b[43m,\u001b[49m\u001b[43m \u001b[49m\u001b[43merrors\u001b[49m\u001b[38;5;241;43m=\u001b[39;49m\u001b[43merrors\u001b[49m\u001b[43m)\u001b[49m\n\u001b[0;32m   4831\u001b[0m     indexer \u001b[38;5;241m=\u001b[39m axis\u001b[38;5;241m.\u001b[39mget_indexer(new_axis)\n\u001b[0;32m   4833\u001b[0m \u001b[38;5;66;03m# Case for non-unique axis\u001b[39;00m\n\u001b[0;32m   4834\u001b[0m \u001b[38;5;28;01melse\u001b[39;00m:\n",
      "File \u001b[1;32m~\\miniconda3\\Lib\\site-packages\\pandas\\core\\indexes\\base.py:7070\u001b[0m, in \u001b[0;36mIndex.drop\u001b[1;34m(self, labels, errors)\u001b[0m\n\u001b[0;32m   7068\u001b[0m \u001b[38;5;28;01mif\u001b[39;00m mask\u001b[38;5;241m.\u001b[39many():\n\u001b[0;32m   7069\u001b[0m     \u001b[38;5;28;01mif\u001b[39;00m errors \u001b[38;5;241m!=\u001b[39m \u001b[38;5;124m\"\u001b[39m\u001b[38;5;124mignore\u001b[39m\u001b[38;5;124m\"\u001b[39m:\n\u001b[1;32m-> 7070\u001b[0m         \u001b[38;5;28;01mraise\u001b[39;00m \u001b[38;5;167;01mKeyError\u001b[39;00m(\u001b[38;5;124mf\u001b[39m\u001b[38;5;124m\"\u001b[39m\u001b[38;5;132;01m{\u001b[39;00mlabels[mask]\u001b[38;5;241m.\u001b[39mtolist()\u001b[38;5;132;01m}\u001b[39;00m\u001b[38;5;124m not found in axis\u001b[39m\u001b[38;5;124m\"\u001b[39m)\n\u001b[0;32m   7071\u001b[0m     indexer \u001b[38;5;241m=\u001b[39m indexer[\u001b[38;5;241m~\u001b[39mmask]\n\u001b[0;32m   7072\u001b[0m \u001b[38;5;28;01mreturn\u001b[39;00m \u001b[38;5;28mself\u001b[39m\u001b[38;5;241m.\u001b[39mdelete(indexer)\n",
      "\u001b[1;31mKeyError\u001b[0m: \"['usage'] not found in axis\""
     ]
    }
   ],
   "source": [
    "df = df.drop(columns=[\"usage\"]) #미리 만들어진 예제 삭제."
   ]
  },
  {
   "cell_type": "code",
   "execution_count": 35,
   "id": "64f87b82-6f4b-43a6-9d51-6e385c6b7429",
   "metadata": {},
   "outputs": [],
   "source": [
    "fewshot_chain = {\"input\": RunnablePassthrough(),\n",
    "                 \"format_instruction\": lambda _:format_instruction,\n",
    "                 \"example_1_json\": lambda _:example_1_json, \n",
    "                 \"example_2_json\": lambda _:example_2_json}  | chat_prompt_template | model | StrOutputParser() # json그대로 엑셀파일에 저장해야되서 parser대신 StrOutputParser()로 처리."
   ]
  },
  {
   "cell_type": "code",
   "execution_count": null,
   "id": "37455a6a-ae8c-4265-bfab-4aaf9561697d",
   "metadata": {},
   "outputs": [],
   "source": [
    "#엑셀의 각 행의 결과를 처리하는 코드."
   ]
  },
  {
   "cell_type": "code",
   "execution_count": 36,
   "id": "eedac0cd-878f-446a-9ca7-3e6bc8b45dd3",
   "metadata": {},
   "outputs": [],
   "source": [
    "df[\"usage\"] = df.apply(lambda row: fewshot_chain.invoke(row[\"word\"]), axis=1)"
   ]
  },
  {
   "cell_type": "code",
   "execution_count": 37,
   "id": "e108f493-168e-4f69-b2ba-dfed93c748b9",
   "metadata": {},
   "outputs": [],
   "source": [
    "df.to_excel(\"./words.xlsx\", index=False)"
   ]
  },
  {
   "cell_type": "code",
   "execution_count": 39,
   "id": "0ad9f277-0657-446d-9a6a-44c031a9f849",
   "metadata": {},
   "outputs": [
    {
     "data": {
      "text/html": [
       "<div>\n",
       "<style scoped>\n",
       "    .dataframe tbody tr th:only-of-type {\n",
       "        vertical-align: middle;\n",
       "    }\n",
       "\n",
       "    .dataframe tbody tr th {\n",
       "        vertical-align: top;\n",
       "    }\n",
       "\n",
       "    .dataframe thead th {\n",
       "        text-align: right;\n",
       "    }\n",
       "</style>\n",
       "<table border=\"1\" class=\"dataframe\">\n",
       "  <thead>\n",
       "    <tr style=\"text-align: right;\">\n",
       "      <th></th>\n",
       "      <th>word</th>\n",
       "      <th>imoj</th>\n",
       "      <th>meaning</th>\n",
       "      <th>usage</th>\n",
       "    </tr>\n",
       "  </thead>\n",
       "  <tbody>\n",
       "    <tr>\n",
       "      <th>0</th>\n",
       "      <td>effort</td>\n",
       "      <td>💪</td>\n",
       "      <td>effort은 노력이나 수고를 의미합니다. 그것은 어떤 일을 이루기 위해 투자한 에...</td>\n",
       "      <td>{\"conversation\": [{\"role\": \"Amanda\", \"content\"...</td>\n",
       "    </tr>\n",
       "    <tr>\n",
       "      <th>1</th>\n",
       "      <td>excitement</td>\n",
       "      <td>🎉</td>\n",
       "      <td>excitement은 흥분이나 설렘을 의미합니다. 어떤 일이나 사건이 특히 기쁘거나...</td>\n",
       "      <td>{\\n\\t\"conversation\": [{\\n\\t\\t\\t\"role\": \"Emma\",...</td>\n",
       "    </tr>\n",
       "    <tr>\n",
       "      <th>2</th>\n",
       "      <td>love</td>\n",
       "      <td>❤️</td>\n",
       "      <td>love은 강한 애정이나 연애, 친밀한 관계를 의미합니다. 또한 사랑은 다른 사람에...</td>\n",
       "      <td>{\"conversation\": [{\"role\": \"Alice\", \"content\":...</td>\n",
       "    </tr>\n",
       "    <tr>\n",
       "      <th>3</th>\n",
       "      <td>friendship</td>\n",
       "      <td>👫</td>\n",
       "      <td>friendship은 친구 사이의 관계를 의미합니다. 이는 서로 신뢰하고 존중하는 ...</td>\n",
       "      <td>{\"conversation\": [{\"role\": \"Alice\", \"content\":...</td>\n",
       "    </tr>\n",
       "    <tr>\n",
       "      <th>4</th>\n",
       "      <td>excited</td>\n",
       "      <td>🎉</td>\n",
       "      <td>excited는 흥분한, 들뜬 감정이나 기분을 나타냅니다. 이 단어는 기대했던 일이...</td>\n",
       "      <td>{\"conversation\": [{\"role\": \"Emily\", \"content\":...</td>\n",
       "    </tr>\n",
       "    <tr>\n",
       "      <th>5</th>\n",
       "      <td>success</td>\n",
       "      <td>🎉</td>\n",
       "      <td>success는 성공을 의미합니다. 어떤 목표를 달성하거나 원하는 결과를 얻었을 때...</td>\n",
       "      <td>{\"conversation\": [{\"role\": \"Alice\", \"content\":...</td>\n",
       "    </tr>\n",
       "    <tr>\n",
       "      <th>6</th>\n",
       "      <td>success</td>\n",
       "      <td>NaN</td>\n",
       "      <td>success는 성공이나 성취를 의미합니다. 어떤 목표를 달성하거나 원하는 결과를 ...</td>\n",
       "      <td>{\"conversation\": [{\"role\": \"Alice\", \"content\":...</td>\n",
       "    </tr>\n",
       "    <tr>\n",
       "      <th>7</th>\n",
       "      <td>happy</td>\n",
       "      <td>😃</td>\n",
       "      <td>happy는 기쁨이나 만족감을 의미합니다. 그것은 긍정적인 감정이나 좋은 상태를 표...</td>\n",
       "      <td>{\"conversation\": [{\"role\": \"Alice\", \"content\":...</td>\n",
       "    </tr>\n",
       "    <tr>\n",
       "      <th>8</th>\n",
       "      <td>success</td>\n",
       "      <td>🎉</td>\n",
       "      <td>success은 성공이나 성취를 의미합니다. 어떤 목표나 업적을 달성하거나 원하는 ...</td>\n",
       "      <td>{\"conversation\": [{\"role\": \"Alice\", \"content\":...</td>\n",
       "    </tr>\n",
       "    <tr>\n",
       "      <th>9</th>\n",
       "      <td>laughter</td>\n",
       "      <td>😂</td>\n",
       "      <td>laughter는 웃음을 의미합니다. 그것은 기쁨, 유쾌함, 웃기거나 재미있는 것으...</td>\n",
       "      <td>{\"conversation\": [{\"role\": \"Alice\", \"content\":...</td>\n",
       "    </tr>\n",
       "  </tbody>\n",
       "</table>\n",
       "</div>"
      ],
      "text/plain": [
       "         word imoj                                            meaning  \\\n",
       "0      effort    💪  effort은 노력이나 수고를 의미합니다. 그것은 어떤 일을 이루기 위해 투자한 에...   \n",
       "1  excitement    🎉  excitement은 흥분이나 설렘을 의미합니다. 어떤 일이나 사건이 특히 기쁘거나...   \n",
       "2        love   ❤️  love은 강한 애정이나 연애, 친밀한 관계를 의미합니다. 또한 사랑은 다른 사람에...   \n",
       "3  friendship    👫  friendship은 친구 사이의 관계를 의미합니다. 이는 서로 신뢰하고 존중하는 ...   \n",
       "4     excited    🎉  excited는 흥분한, 들뜬 감정이나 기분을 나타냅니다. 이 단어는 기대했던 일이...   \n",
       "5     success    🎉  success는 성공을 의미합니다. 어떤 목표를 달성하거나 원하는 결과를 얻었을 때...   \n",
       "6     success  NaN  success는 성공이나 성취를 의미합니다. 어떤 목표를 달성하거나 원하는 결과를 ...   \n",
       "7       happy    😃  happy는 기쁨이나 만족감을 의미합니다. 그것은 긍정적인 감정이나 좋은 상태를 표...   \n",
       "8     success    🎉  success은 성공이나 성취를 의미합니다. 어떤 목표나 업적을 달성하거나 원하는 ...   \n",
       "9    laughter    😂  laughter는 웃음을 의미합니다. 그것은 기쁨, 유쾌함, 웃기거나 재미있는 것으...   \n",
       "\n",
       "                                               usage  \n",
       "0  {\"conversation\": [{\"role\": \"Amanda\", \"content\"...  \n",
       "1  {\\n\\t\"conversation\": [{\\n\\t\\t\\t\"role\": \"Emma\",...  \n",
       "2  {\"conversation\": [{\"role\": \"Alice\", \"content\":...  \n",
       "3  {\"conversation\": [{\"role\": \"Alice\", \"content\":...  \n",
       "4  {\"conversation\": [{\"role\": \"Emily\", \"content\":...  \n",
       "5  {\"conversation\": [{\"role\": \"Alice\", \"content\":...  \n",
       "6  {\"conversation\": [{\"role\": \"Alice\", \"content\":...  \n",
       "7  {\"conversation\": [{\"role\": \"Alice\", \"content\":...  \n",
       "8  {\"conversation\": [{\"role\": \"Alice\", \"content\":...  \n",
       "9  {\"conversation\": [{\"role\": \"Alice\", \"content\":...  "
      ]
     },
     "execution_count": 39,
     "metadata": {},
     "output_type": "execute_result"
    }
   ],
   "source": [
    "df"
   ]
  },
  {
   "cell_type": "code",
   "execution_count": null,
   "id": "48db85c7-3139-4836-97f5-ef0825ebe8bd",
   "metadata": {},
   "outputs": [],
   "source": []
  }
 ],
 "metadata": {
  "kernelspec": {
   "display_name": "Python 3 (ipykernel)",
   "language": "python",
   "name": "python3"
  },
  "language_info": {
   "codemirror_mode": {
    "name": "ipython",
    "version": 3
   },
   "file_extension": ".py",
   "mimetype": "text/x-python",
   "name": "python",
   "nbconvert_exporter": "python",
   "pygments_lexer": "ipython3",
   "version": "3.12.3"
  }
 },
 "nbformat": 4,
 "nbformat_minor": 5
}

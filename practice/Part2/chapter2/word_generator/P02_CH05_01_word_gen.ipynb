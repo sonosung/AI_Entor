{
 "cells": [
  {
   "cell_type": "markdown",
   "id": "2d57c34e-fe6c-4817-8f81-7074cf024801",
   "metadata": {},
   "source": [
    "# 오늘의 영어 단어 생성하기"
   ]
  },
  {
   "cell_type": "code",
   "execution_count": 1,
   "id": "d1e44154-89a2-495d-8066-144adfaa660f",
   "metadata": {},
   "outputs": [
    {
     "name": "stderr",
     "output_type": "stream",
     "text": [
      "C:\\Users\\msh07\\miniconda3\\Lib\\site-packages\\IPython\\core\\interactiveshell.py:3577: LangChainDeprecationWarning: As of langchain-core 0.3.0, LangChain uses pydantic v2 internally. The langchain.pydantic_v1 module was a compatibility shim for pydantic v1, and should no longer be used. Please update the code to import from Pydantic directly.\n",
      "\n",
      "For example, replace imports like: `from langchain.pydantic_v1 import BaseModel`\n",
      "with: `from pydantic import BaseModel`\n",
      "or the v1 compatibility namespace if you are working in a code base that has not been fully upgraded to pydantic 2 yet. \tfrom pydantic.v1 import BaseModel\n",
      "\n",
      "  exec(code_obj, self.user_global_ns, self.user_ns)\n"
     ]
    }
   ],
   "source": [
    "import json\n",
    "\n",
    "from tqdm.notebook import tqdm\n",
    "from langchain_core.prompts import PromptTemplate\n",
    "from langchain_openai import ChatOpenAI\n",
    "from langchain_core.output_parsers import JsonOutputParser\n",
    "from langchain.pydantic_v1 import BaseModel, Field\n",
    "from langchain.schema import HumanMessage, AIMessage\n",
    "import pandas as pd #엑셀파일로 저장하기 위해 필요한 라이브러리"
   ]
  },
  {
   "cell_type": "code",
   "execution_count": 9,
   "id": "559e7cbe-faab-4c5f-8110-27d33981b346",
   "metadata": {},
   "outputs": [],
   "source": [
    "model = ChatOpenAI(model=\"gpt-3.5-turbo\", temperature=1.0) #단어를 랜덤 확률을 높이기 위해 temperature를 1로 높게 설정."
   ]
  },
  {
   "cell_type": "code",
   "execution_count": 43,
   "id": "4da16463-e4c9-48d7-9c4c-9ccc7ea343bd",
   "metadata": {},
   "outputs": [],
   "source": [
    "class Word(BaseModel):\n",
    "    word: str = Field(\"영어 단어\")\n",
    "    imoj: str = Field(\"word에 어울리는 적절한 이모지\")\n",
    "    meaning: str = Field(\"word의 의미, 뜻 한국어로\")\n",
    "    origin: str = Field(\"word의 어원, 100자 이내 한국어로\")\n",
    "    synonym: str = Field(\"word와 유사한 뜻을 가진 영단어\")"
   ]
  },
  {
   "cell_type": "code",
   "execution_count": 44,
   "id": "b2212e45-9dcc-4d4a-a9cd-46f94b36502d",
   "metadata": {},
   "outputs": [],
   "source": [
    "parser = JsonOutputParser(pydantic_object=Word) #parser 노드!"
   ]
  },
  {
   "cell_type": "code",
   "execution_count": 45,
   "id": "07337f8a-7e9a-4e39-8b0b-33194a2ee510",
   "metadata": {},
   "outputs": [],
   "source": [
    "format_instruction = parser.get_format_instructions()"
   ]
  },
  {
   "cell_type": "code",
   "execution_count": 46,
   "id": "d3ad55f8-7e43-435d-b6cb-592291f39496",
   "metadata": {},
   "outputs": [],
   "source": [
    "#fewshot : 원하는 답변의 예시를 미리 제시함. 답변을 강화하기 위해 반복적으로 예를 제시. 반복되는 예시에 패턴을 읽어서 예시와 유사하게 답변을 제시함. format_instruction에서도 동일하지만 fewshot이 더 나음.\n",
    "fewshot = [\n",
    "    HumanMessage(content=f\"영어 단어 하나와 그 단어에 어울리는 이모지와 그 뜻을 만들어줘. 포맷은 다음을 따라 만들어줘\\n{format_instruction}\"),\n",
    "    AIMessage(content='{\"word\": \"situation\", \"imoj\": \"🤔\", \"meaning\": \"situation은 어떤 일이 일어나고 있는 특정한 장소나 시간을 말합니다. 또한 그것은 어떤 것의 현재 상태나 조건을 가리킬 수도 있습니다. situation은 문제나 어려움이 발생한 상황을 강조하기 위해 사용될 수 있습니다.\", \"origin\": \"\"situation\"은 라틴어 situatio ( situare, \"배치하다\")에서 유래했습니다. 이후 고대 프랑스어 situacion을 거쳐 중세 영어로 들어왔으며, 물리적 위치에서 상황이나 환경을 의미하는 단어로 발전했습니다.\",\"synonym\": \"circumstance\"}'),\n",
    "    HumanMessage(content=f\"영어 단어 하나와 그 단어에 어울리는 이모지와 그 뜻을 만들어줘. 포맷은 다음을 따라 만들어줘\\n{format_instruction}\"),\n",
    "    AIMessage(content='{\"word\": \"concern\", \"imoj\": \"😟\", \"meaning\": \"concern은 걱정이나 근심을 의미합니다. 그것은 누군가에게 감정적으로나 육체적으로 영향을 미칠 수 있는 무언가에 대한 관심이나 걱정을 나타낼 수 있습니다. concern은 또한 중요성이나 관련성을 의미할 수도 있습니다.\", \"orogin\": \"\"concern\"은 라틴어 concernere (\"함께 섞다, 체로 치다\")에서 유래했으며, con- (\"함께\")과 cernere (\"체로 치다, 분리하다\")에서 파생되었습니다. 이후 고대 프랑스어 concerner (\"관련되다\")를 거쳐 15세기 중세 영어로 들어와 걱정이나 관심을 나타내는 의미로 발전했습니다.\", \"synonym\": \"worry\"}'),\n",
    "    HumanMessage(content=f\"영어 단어 하나와 그 단어에 어울리는 이모지와 그 뜻을 만들어줘. 포맷은 다음을 따라 만들어줘\\n{format_instruction}\"),\n",
    "]"
   ]
  },
  {
   "cell_type": "code",
   "execution_count": 47,
   "id": "d604982e-f8d1-4d33-8d0d-cf9f5be0d3f9",
   "metadata": {},
   "outputs": [],
   "source": [
    "chain = model | parser"
   ]
  },
  {
   "cell_type": "code",
   "execution_count": 48,
   "id": "5e042fe6-e3c0-465f-baab-e9b8c6d7625b",
   "metadata": {},
   "outputs": [
    {
     "data": {
      "text/plain": [
       "{'word': 'serendipity',\n",
       " 'imoj': '🍀',\n",
       " 'meaning': 'Serendipity는 우연히 발견한 행운이나 기쁨을 의미합니다. 어떤 일이 계획되지 않은 상태에서 예기치 않게 발생하는 긍정적인 사건이나 경험을 가리킬 때 사용됩니다.',\n",
       " 'origin': 'Serendipity는 18세기 영국의 작가인 홀로우드 잡스가 처음 사용한 용어로, 이탈리아 명칭 Serendip (과거의 스리랑카 섬 이름)에 -ity 접미사를 붙여 만들어졌습니다. Serendip은 다른 것을 찾아나서 이외의 도람을 일으키는 사람이라는 뜻을 가지고 있습니다.',\n",
       " 'synonym': 'chance finding'}"
      ]
     },
     "execution_count": 48,
     "metadata": {},
     "output_type": "execute_result"
    }
   ],
   "source": [
    "chain.invoke(fewshot)"
   ]
  },
  {
   "cell_type": "code",
   "execution_count": 9,
   "id": "44d5e8fe-1486-408c-bcd2-aa1c70a5f0a8",
   "metadata": {},
   "outputs": [],
   "source": [
    "sample_list = []\n",
    "n_sample = 10\n",
    "for _ in tqdm(range(n_sample), total=n_sample):\n",
    "    sample = chain.invoke(fewshot)\n",
    "    sample_list.append(sample)\n",
    "    "
   ]
  },
  {
   "cell_type": "code",
   "execution_count": 10,
   "id": "653ae5e8-7e7c-41cf-a7f1-fe7840ee51a3",
   "metadata": {},
   "outputs": [],
   "source": [
    "df = pd.DataFrame(sample_list)"
   ]
  },
  {
   "cell_type": "code",
   "execution_count": 11,
   "id": "e5a20560-cf3d-4223-9520-d4a3d3dea5bb",
   "metadata": {},
   "outputs": [],
   "source": [
    "df.to_excel(\"./words.xlsx\", index=False)"
   ]
  },
  {
   "cell_type": "code",
   "execution_count": null,
   "id": "c7bbcd3c-d54d-4725-9ca2-192b1610ca23",
   "metadata": {},
   "outputs": [],
   "source": []
  }
 ],
 "metadata": {
  "kernelspec": {
   "display_name": "Python 3 (ipykernel)",
   "language": "python",
   "name": "python3"
  },
  "language_info": {
   "codemirror_mode": {
    "name": "ipython",
    "version": 3
   },
   "file_extension": ".py",
   "mimetype": "text/x-python",
   "name": "python",
   "nbconvert_exporter": "python",
   "pygments_lexer": "ipython3",
   "version": "3.12.3"
  }
 },
 "nbformat": 4,
 "nbformat_minor": 5
}

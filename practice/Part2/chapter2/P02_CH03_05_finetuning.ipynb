{
 "cells": [
  {
   "cell_type": "markdown",
   "id": "6579f1d6-a64e-4587-9259-966fb4447848",
   "metadata": {},
   "source": [
    "# Fine-tuning을 이용한 AI에게 인격 부여하기\n",
    "## OpenAI Fine-tuning API로 학습하고 대화하기"
   ]
  },
  {
   "cell_type": "code",
   "execution_count": 19,
   "id": "b27d31dc-20de-46cd-aef5-df20eceeb8d7",
   "metadata": {},
   "outputs": [],
   "source": [
    "import os\n",
    "from openai import OpenAI"
   ]
  },
  {
   "cell_type": "code",
   "execution_count": 1,
   "id": "177364dc-d5d4-4ac6-82cb-9ef9b9d90f62",
   "metadata": {},
   "outputs": [
    {
     "name": "stdout",
     "output_type": "stream",
     "text": [
      "config:\n",
      "    C:\\Users\\msh07\\.jupyter\n",
      "    C:\\Users\\msh07\\AppData\\Roaming\\Python\\etc\\jupyter\n",
      "    C:\\Users\\msh07\\miniconda3\\etc\\jupyter\n",
      "    C:\\ProgramData\\jupyter\n",
      "data:\n",
      "    C:\\Users\\msh07\\AppData\\Roaming\\jupyter\n",
      "    C:\\Users\\msh07\\AppData\\Roaming\\Python\\share\\jupyter\n",
      "    C:\\Users\\msh07\\miniconda3\\share\\jupyter\n",
      "    C:\\ProgramData\\jupyter\n",
      "runtime:\n",
      "    C:\\Users\\msh07\\AppData\\Roaming\\jupyter\\runtime\n"
     ]
    }
   ],
   "source": [
    "!jupyter --paths"
   ]
  },
  {
   "cell_type": "code",
   "execution_count": 2,
   "id": "8e018a83-0f9c-4224-908b-f861859ae603",
   "metadata": {},
   "outputs": [
    {
     "name": "stdout",
     "output_type": "stream",
     "text": [
      "Requirement already satisfied: openai in c:\\users\\msh07\\miniconda3\\lib\\site-packages (1.60.2)\n",
      "Requirement already satisfied: anyio<5,>=3.5.0 in c:\\users\\msh07\\miniconda3\\lib\\site-packages (from openai) (4.7.0)\n",
      "Requirement already satisfied: distro<2,>=1.7.0 in c:\\users\\msh07\\miniconda3\\lib\\site-packages (from openai) (1.9.0)\n",
      "Requirement already satisfied: httpx<1,>=0.23.0 in c:\\users\\msh07\\miniconda3\\lib\\site-packages (from openai) (0.27.2)\n",
      "Requirement already satisfied: jiter<1,>=0.4.0 in c:\\users\\msh07\\miniconda3\\lib\\site-packages (from openai) (0.8.2)\n",
      "Requirement already satisfied: pydantic<3,>=1.9.0 in c:\\users\\msh07\\miniconda3\\lib\\site-packages (from openai) (2.10.4)\n",
      "Requirement already satisfied: sniffio in c:\\users\\msh07\\miniconda3\\lib\\site-packages (from openai) (1.3.1)\n",
      "Requirement already satisfied: tqdm>4 in c:\\users\\msh07\\miniconda3\\lib\\site-packages (from openai) (4.66.5)\n",
      "Requirement already satisfied: typing-extensions<5,>=4.11 in c:\\users\\msh07\\miniconda3\\lib\\site-packages (from openai) (4.12.2)\n",
      "Requirement already satisfied: idna>=2.8 in c:\\users\\msh07\\miniconda3\\lib\\site-packages (from anyio<5,>=3.5.0->openai) (3.7)\n",
      "Requirement already satisfied: certifi in c:\\users\\msh07\\miniconda3\\lib\\site-packages (from httpx<1,>=0.23.0->openai) (2024.12.14)\n",
      "Requirement already satisfied: httpcore==1.* in c:\\users\\msh07\\miniconda3\\lib\\site-packages (from httpx<1,>=0.23.0->openai) (1.0.7)\n",
      "Requirement already satisfied: h11<0.15,>=0.13 in c:\\users\\msh07\\miniconda3\\lib\\site-packages (from httpcore==1.*->httpx<1,>=0.23.0->openai) (0.14.0)\n",
      "Requirement already satisfied: annotated-types>=0.6.0 in c:\\users\\msh07\\miniconda3\\lib\\site-packages (from pydantic<3,>=1.9.0->openai) (0.7.0)\n",
      "Requirement already satisfied: pydantic-core==2.27.2 in c:\\users\\msh07\\miniconda3\\lib\\site-packages (from pydantic<3,>=1.9.0->openai) (2.27.2)\n",
      "Requirement already satisfied: colorama in c:\\users\\msh07\\miniconda3\\lib\\site-packages (from tqdm>4->openai) (0.4.6)\n"
     ]
    }
   ],
   "source": [
    "!pip install --upgrade openai"
   ]
  },
  {
   "cell_type": "code",
   "execution_count": 20,
   "id": "3df5de88-3535-46c2-aa81-7e1de2038155",
   "metadata": {},
   "outputs": [],
   "source": [
    "client = OpenAI()"
   ]
  },
  {
   "cell_type": "markdown",
   "id": "f4d7828f-f971-4fde-bfa4-eaf63f23ccc9",
   "metadata": {},
   "source": [
    "## Upload File"
   ]
  },
  {
   "cell_type": "code",
   "execution_count": 21,
   "id": "a97c475c-e64c-4c1c-95c1-4cc3a3c9a6bf",
   "metadata": {},
   "outputs": [],
   "source": [
    "#data 업로드\n",
    "train_file = client.files.create(\n",
    "  file=open(\"train.jsonl\", \"rb\"),\n",
    "  purpose=\"fine-tune\"\n",
    ")"
   ]
  },
  {
   "cell_type": "code",
   "execution_count": 22,
   "id": "1633001a-636a-4d42-b34c-1d94e325d0c9",
   "metadata": {},
   "outputs": [
    {
     "data": {
      "text/plain": [
       "FileObject(id='file-M3rj5RZRe8i4Tj7LiqASjY', bytes=30380, created_at=1738159264, filename='train.jsonl', object='file', purpose='fine-tune', status='processed', status_details=None)"
      ]
     },
     "execution_count": 22,
     "metadata": {},
     "output_type": "execute_result"
    }
   ],
   "source": [
    "train_file"
   ]
  },
  {
   "cell_type": "code",
   "execution_count": 23,
   "id": "735ef446-557a-4a06-a356-ecfd2a9b47d5",
   "metadata": {},
   "outputs": [
    {
     "name": "stderr",
     "output_type": "stream",
     "text": [
      "C:\\Users\\msh07\\AppData\\Local\\Temp\\ipykernel_21888\\2243376447.py:1: PydanticDeprecatedSince20: The `dict` method is deprecated; use `model_dump` instead. Deprecated in Pydantic V2.0 to be removed in V3.0. See Pydantic V2 Migration Guide at https://errors.pydantic.dev/2.10/migration/\n",
      "  train_file.dict()\n"
     ]
    },
    {
     "data": {
      "text/plain": [
       "{'id': 'file-M3rj5RZRe8i4Tj7LiqASjY',\n",
       " 'bytes': 30380,\n",
       " 'created_at': 1738159264,\n",
       " 'filename': 'train.jsonl',\n",
       " 'object': 'file',\n",
       " 'purpose': 'fine-tune',\n",
       " 'status': 'processed',\n",
       " 'status_details': None}"
      ]
     },
     "execution_count": 23,
     "metadata": {},
     "output_type": "execute_result"
    }
   ],
   "source": [
    "train_file.dict()"
   ]
  },
  {
   "cell_type": "code",
   "execution_count": 24,
   "id": "d0dac8c1-6446-47ea-9d95-0b617cbcec5e",
   "metadata": {},
   "outputs": [
    {
     "data": {
      "text/plain": [
       "'file-M3rj5RZRe8i4Tj7LiqASjY'"
      ]
     },
     "execution_count": 24,
     "metadata": {},
     "output_type": "execute_result"
    }
   ],
   "source": [
    "train_file.id #file ID를 통해 AI를 학습시킬 예정."
   ]
  },
  {
   "cell_type": "code",
   "execution_count": 25,
   "id": "5fbbec8a-5fb0-4e29-beb2-38f30d159855",
   "metadata": {},
   "outputs": [],
   "source": [
    "#손실값 계산\n",
    "valid_file = client.files.create(\n",
    "  file=open(\"valid.jsonl\", \"rb\"),\n",
    "  purpose=\"fine-tune\"\n",
    ")"
   ]
  },
  {
   "cell_type": "code",
   "execution_count": 26,
   "id": "39eeb93f-e294-4e3c-ad75-4c9e2a7cef43",
   "metadata": {},
   "outputs": [
    {
     "data": {
      "text/plain": [
       "FileObject(id='file-SQVpcrA8xxVVNLTCtKur3S', bytes=9074, created_at=1738159279, filename='valid.jsonl', object='file', purpose='fine-tune', status='processed', status_details=None)"
      ]
     },
     "execution_count": 26,
     "metadata": {},
     "output_type": "execute_result"
    }
   ],
   "source": [
    "valid_file"
   ]
  },
  {
   "cell_type": "code",
   "execution_count": 27,
   "id": "40780f8d-1aa2-4d3e-a30b-5bf2fb272185",
   "metadata": {},
   "outputs": [
    {
     "name": "stderr",
     "output_type": "stream",
     "text": [
      "C:\\Users\\msh07\\AppData\\Local\\Temp\\ipykernel_21888\\267935741.py:1: PydanticDeprecatedSince20: The `dict` method is deprecated; use `model_dump` instead. Deprecated in Pydantic V2.0 to be removed in V3.0. See Pydantic V2 Migration Guide at https://errors.pydantic.dev/2.10/migration/\n",
      "  valid_file.dict()\n"
     ]
    },
    {
     "data": {
      "text/plain": [
       "{'id': 'file-SQVpcrA8xxVVNLTCtKur3S',\n",
       " 'bytes': 9074,\n",
       " 'created_at': 1738159279,\n",
       " 'filename': 'valid.jsonl',\n",
       " 'object': 'file',\n",
       " 'purpose': 'fine-tune',\n",
       " 'status': 'processed',\n",
       " 'status_details': None}"
      ]
     },
     "execution_count": 27,
     "metadata": {},
     "output_type": "execute_result"
    }
   ],
   "source": [
    "valid_file.dict()"
   ]
  },
  {
   "cell_type": "code",
   "execution_count": 28,
   "id": "c66de934-7f7e-4d4d-a3c0-1213634e0ea8",
   "metadata": {},
   "outputs": [
    {
     "data": {
      "text/plain": [
       "'file-SQVpcrA8xxVVNLTCtKur3S'"
      ]
     },
     "execution_count": 28,
     "metadata": {},
     "output_type": "execute_result"
    }
   ],
   "source": [
    "valid_file.id"
   ]
  },
  {
   "cell_type": "markdown",
   "id": "13707053-4c8b-4979-bb95-4c6767734af0",
   "metadata": {},
   "source": [
    "## Finetuning"
   ]
  },
  {
   "cell_type": "markdown",
   "id": "f46ff6b2-4b67-47c0-8634-9520f900b8c5",
   "metadata": {},
   "source": [
    "### Finetuning job 제출하기"
   ]
  },
  {
   "cell_type": "code",
   "execution_count": 11,
   "id": "ad8bd6ab-6a64-49f9-a541-cc8b6c63f236",
   "metadata": {},
   "outputs": [],
   "source": [
    "job = client.fine_tuning.jobs.create(\n",
    "  training_file=train_file.id,\n",
    "  validation_file=valid_file.id, \n",
    "  model=\"gpt-3.5-turbo-1106\",\n",
    "  hyperparameters={\n",
    "    \"n_epochs\": 1 # default: 3 #에포크 설정. 기본값은 3. 3~7 사이 추천.\n",
    "  }\n",
    ")"
   ]
  },
  {
   "cell_type": "code",
   "execution_count": 12,
   "id": "6c84852f-9cd6-4aa7-89e2-ffc89b793bbd",
   "metadata": {},
   "outputs": [
    {
     "data": {
      "text/plain": [
       "FineTuningJob(id='ftjob-PZUMAr0mAHYn13GBKcLqFKXn', created_at=1737729870, error=Error(code=None, message=None, param=None), fine_tuned_model=None, finished_at=None, hyperparameters=Hyperparameters(batch_size='auto', learning_rate_multiplier='auto', n_epochs=1), model='gpt-3.5-turbo-1106', object='fine_tuning.job', organization_id='org-ExjBXytxly5Vj8QSbdd7Gfnp', result_files=[], seed=794362733, status='validating_files', trained_tokens=None, training_file='file-Dd6GJhpxZ57m6VeZuEW79A', validation_file='file-26g197nEyLaJzB1tS5eQMH', estimated_finish=None, integrations=[], method=Method(dpo=None, supervised=MethodSupervised(hyperparameters=MethodSupervisedHyperparameters(batch_size='auto', learning_rate_multiplier='auto', n_epochs=1)), type='supervised'), user_provided_suffix=None)"
      ]
     },
     "execution_count": 12,
     "metadata": {},
     "output_type": "execute_result"
    }
   ],
   "source": [
    "job"
   ]
  },
  {
   "cell_type": "code",
   "execution_count": 13,
   "id": "0e483009-4d49-420e-8d75-24c88fc00b72",
   "metadata": {},
   "outputs": [
    {
     "name": "stderr",
     "output_type": "stream",
     "text": [
      "C:\\Users\\msh07\\AppData\\Local\\Temp\\ipykernel_8704\\127413622.py:1: PydanticDeprecatedSince20: The `dict` method is deprecated; use `model_dump` instead. Deprecated in Pydantic V2.0 to be removed in V3.0. See Pydantic V2 Migration Guide at https://errors.pydantic.dev/2.10/migration/\n",
      "  job.dict()\n"
     ]
    },
    {
     "data": {
      "text/plain": [
       "{'id': 'ftjob-PZUMAr0mAHYn13GBKcLqFKXn',\n",
       " 'created_at': 1737729870,\n",
       " 'error': {'code': None, 'message': None, 'param': None},\n",
       " 'fine_tuned_model': None,\n",
       " 'finished_at': None,\n",
       " 'hyperparameters': {'batch_size': 'auto',\n",
       "  'learning_rate_multiplier': 'auto',\n",
       "  'n_epochs': 1},\n",
       " 'model': 'gpt-3.5-turbo-1106',\n",
       " 'object': 'fine_tuning.job',\n",
       " 'organization_id': 'org-ExjBXytxly5Vj8QSbdd7Gfnp',\n",
       " 'result_files': [],\n",
       " 'seed': 794362733,\n",
       " 'status': 'validating_files',\n",
       " 'trained_tokens': None,\n",
       " 'training_file': 'file-Dd6GJhpxZ57m6VeZuEW79A',\n",
       " 'validation_file': 'file-26g197nEyLaJzB1tS5eQMH',\n",
       " 'estimated_finish': None,\n",
       " 'integrations': [],\n",
       " 'method': {'dpo': None,\n",
       "  'supervised': {'hyperparameters': {'batch_size': 'auto',\n",
       "    'learning_rate_multiplier': 'auto',\n",
       "    'n_epochs': 1}},\n",
       "  'type': 'supervised'},\n",
       " 'user_provided_suffix': None}"
      ]
     },
     "execution_count": 13,
     "metadata": {},
     "output_type": "execute_result"
    }
   ],
   "source": [
    "job.dict()"
   ]
  },
  {
   "cell_type": "code",
   "execution_count": 14,
   "id": "eef49ad7-f745-4bb0-9f24-54e96fab2295",
   "metadata": {},
   "outputs": [
    {
     "data": {
      "text/plain": [
       "'ftjob-PZUMAr0mAHYn13GBKcLqFKXn'"
      ]
     },
     "execution_count": 14,
     "metadata": {},
     "output_type": "execute_result"
    }
   ],
   "source": [
    "job.id"
   ]
  },
  {
   "cell_type": "code",
   "execution_count": 15,
   "id": "b6c474a0-7d39-4f33-85ee-b77baf70f98b",
   "metadata": {},
   "outputs": [
    {
     "name": "stdout",
     "output_type": "stream",
     "text": [
      "Job ID: ftjob-WS9Drf8b0HNTU8HrrLkXsd6w\n",
      "Status: validating_files\n"
     ]
    }
   ],
   "source": [
    "print(\"Job ID:\", job.id)\n",
    "print(\"Status:\", job.status)"
   ]
  },
  {
   "cell_type": "markdown",
   "id": "8e36e121-8bd6-4273-8540-c132b2970a7e",
   "metadata": {},
   "source": [
    "### Finetuning job들 가져오기"
   ]
  },
  {
   "cell_type": "code",
   "execution_count": 43,
   "id": "6c81e496-d1d3-48c5-8951-15e612a4cb0d",
   "metadata": {},
   "outputs": [],
   "source": [
    "#학습중인 job 파일 조회\n",
    "resp = client.fine_tuning.jobs.list(limit=10)"
   ]
  },
  {
   "cell_type": "code",
   "execution_count": 16,
   "id": "6ccf4d8b-85a5-4992-806f-7b6def93cab9",
   "metadata": {},
   "outputs": [
    {
     "ename": "NameError",
     "evalue": "name 'resp' is not defined",
     "output_type": "error",
     "traceback": [
      "\u001b[1;31m----------------------------------------------------\u001b[0m",
      "\u001b[1;31mNameError\u001b[0m          Traceback (most recent call last)",
      "Cell \u001b[1;32mIn[16], line 1\u001b[0m\n\u001b[1;32m----> 1\u001b[0m \u001b[43mresp\u001b[49m\u001b[38;5;241m.\u001b[39mdict()\n",
      "\u001b[1;31mNameError\u001b[0m: name 'resp' is not defined"
     ]
    }
   ],
   "source": [
    "resp.dict()"
   ]
  },
  {
   "cell_type": "markdown",
   "id": "564f4084-55df-42e9-b90c-6f24457486fd",
   "metadata": {},
   "source": [
    "### 현재 Finetuning 상태 가져오기\n"
   ]
  },
  {
   "cell_type": "code",
   "execution_count": 45,
   "id": "24d84aca-ccde-453c-8d64-e0a04a140988",
   "metadata": {},
   "outputs": [],
   "source": [
    "job = client.fine_tuning.jobs.retrieve(job.id)"
   ]
  },
  {
   "cell_type": "code",
   "execution_count": 46,
   "id": "e9868cf5-91ad-485f-8ca6-b71b17eb1069",
   "metadata": {},
   "outputs": [
    {
     "name": "stderr",
     "output_type": "stream",
     "text": [
      "C:\\Users\\msh07\\AppData\\Local\\Temp\\ipykernel_27268\\127413622.py:1: PydanticDeprecatedSince20: The `dict` method is deprecated; use `model_dump` instead. Deprecated in Pydantic V2.0 to be removed in V3.0. See Pydantic V2 Migration Guide at https://errors.pydantic.dev/2.10/migration/\n",
      "  job.dict()\n"
     ]
    },
    {
     "data": {
      "text/plain": [
       "{'id': 'ftjob-M1oaDaIjB2gTWwDDiLJXhCGN',\n",
       " 'created_at': 1737728395,\n",
       " 'error': {'code': None, 'message': None, 'param': None},\n",
       " 'fine_tuned_model': None,\n",
       " 'finished_at': None,\n",
       " 'hyperparameters': {'batch_size': 'auto',\n",
       "  'learning_rate_multiplier': 'auto',\n",
       "  'n_epochs': 1},\n",
       " 'model': 'gpt-3.5-turbo-1106',\n",
       " 'object': 'fine_tuning.job',\n",
       " 'organization_id': 'org-ExjBXytxly5Vj8QSbdd7Gfnp',\n",
       " 'result_files': [],\n",
       " 'seed': 1545710231,\n",
       " 'status': 'validating_files',\n",
       " 'trained_tokens': None,\n",
       " 'training_file': 'file-5aEb3ZhQMUULH7iJHL8JBr',\n",
       " 'validation_file': 'file-Ko2npq85aG5nm7Vjr1DPPm',\n",
       " 'estimated_finish': None,\n",
       " 'integrations': [],\n",
       " 'method': {'dpo': None,\n",
       "  'supervised': {'hyperparameters': {'batch_size': 'auto',\n",
       "    'learning_rate_multiplier': 'auto',\n",
       "    'n_epochs': 1}},\n",
       "  'type': 'supervised'},\n",
       " 'user_provided_suffix': None}"
      ]
     },
     "execution_count": 46,
     "metadata": {},
     "output_type": "execute_result"
    }
   ],
   "source": [
    "job.dict()"
   ]
  },
  {
   "cell_type": "code",
   "execution_count": 17,
   "id": "5efaa8f7-54b9-43a8-85a9-12aabf5f91b1",
   "metadata": {},
   "outputs": [
    {
     "name": "stdout",
     "output_type": "stream",
     "text": [
      "Job ID: ftjob-WS9Drf8b0HNTU8HrrLkXsd6w\n",
      "Status: validating_files\n"
     ]
    }
   ],
   "source": [
    "print(\"Job ID:\", job.id)\n",
    "print(\"Status:\", job.status)"
   ]
  },
  {
   "cell_type": "markdown",
   "id": "5101072f-119b-40bc-b5c1-6654d8cc0990",
   "metadata": {},
   "source": [
    "### Finetuning job 캔슬하기"
   ]
  },
  {
   "cell_type": "code",
   "execution_count": null,
   "id": "7ebd0472-6dae-47ae-af15-e930b2f566ba",
   "metadata": {},
   "outputs": [],
   "source": [
    "# client.fine_tuning.jobs.cancel(job.id)"
   ]
  },
  {
   "cell_type": "markdown",
   "id": "03d9feec-80b8-4ab1-904e-367e850de6ae",
   "metadata": {},
   "source": [
    "### 학습 과정 확인하기"
   ]
  },
  {
   "cell_type": "code",
   "execution_count": 18,
   "id": "dd141a4a-4af9-48ce-8d37-56549bf7a373",
   "metadata": {},
   "outputs": [
    {
     "name": "stdout",
     "output_type": "stream",
     "text": [
      "Created fine-tuning job: ftjob-WS9Drf8b0HNTU8HrrLkXsd6w\n",
      "Validating training file: file-LLzGi3d8Ciz3owiopsEd5M and validation file: file-Ps8qhNqruG2w1YStAqY38D\n"
     ]
    }
   ],
   "source": [
    "# List up to 10 events from a fine-tuning job\n",
    "response = client.fine_tuning.jobs.list_events(fine_tuning_job_id=job.id, limit=10)\n",
    "events = response.data\n",
    "events.reverse()\n",
    "\n",
    "for event in events:\n",
    "    print(event.message)"
   ]
  },
  {
   "cell_type": "markdown",
   "id": "d72ba731-4515-42ad-898e-4f74fc1bf699",
   "metadata": {},
   "source": [
    "### Finetuning 모델 삭제하기"
   ]
  },
  {
   "cell_type": "code",
   "execution_count": null,
   "id": "a4189ee5-4271-44d7-8e94-c9ed285936ad",
   "metadata": {},
   "outputs": [],
   "source": [
    "# Delete a fine-tuned model (must be an owner of the org the model was created in)\n",
    "client.models.delete(\"ft:gpt-3.5-turbo:acemeco:suffix:abc123\")"
   ]
  },
  {
   "cell_type": "markdown",
   "id": "53cdfecb-8872-4032-8c3d-78f14c18da1d",
   "metadata": {},
   "source": [
    "# Finetuning된 모델 Inference하기"
   ]
  },
  {
   "cell_type": "code",
   "execution_count": 29,
   "id": "f6986956-a851-4a78-b648-ba70cad1aa38",
   "metadata": {},
   "outputs": [],
   "source": [
    "import os\n",
    "from openai import OpenAI\n",
    "\n",
    "client = OpenAI()"
   ]
  },
  {
   "cell_type": "code",
   "execution_count": 37,
   "id": "40bb7917-27f2-475c-b83b-e6ba11614fd9",
   "metadata": {},
   "outputs": [],
   "source": [
    "system_prompt =\"\"\"\\\n",
    "- 너는 햄버거 가게의 직원이다.\n",
    "- 아래의 단계로 질문을 한다.\n",
    "1. 주문 할 메뉴 묻기\n",
    "2. 더 주문 할 것이 없는지 묻기\n",
    "3. 여기서 먹을지 가져가서 먹을지 질문한다.\n",
    "4. 카드로 계산할지 현금으로 계산할지 질문한다.\n",
    "4. 주문이 완료되면 인사를 하고 [END] 라고 이야기한다.\n",
    "- 너는 영어로 답한다.\"\"\""
   ]
  },
  {
   "cell_type": "code",
   "execution_count": 38,
   "id": "87b69c53-d83b-4edc-9572-0efb6db729d9",
   "metadata": {},
   "outputs": [],
   "source": [
    "model = \"ft:gpt-3.5-turbo-1106:---\" #모델 이름은 노출되면 안됨!\n",
    "# model = 'gpt-3.5-turbo-0125'"
   ]
  },
  {
   "cell_type": "code",
   "execution_count": 40,
   "id": "bb648d60-1deb-44c6-9bd7-a065ee3b113d",
   "metadata": {},
   "outputs": [
    {
     "name": "stdout",
     "output_type": "stream",
     "text": [
      "1. Welcome to our burger shop! What would you like to order today?\n",
      "2. Would you like to order anything else?\n",
      "3. Are you dining in or taking your order to go?\n",
      "4. Will you be paying by card or cash?\n",
      "5. [END]\n"
     ]
    }
   ],
   "source": [
    "response = client.chat.completions.create(\n",
    "  model=model,\n",
    "  messages=[\n",
    "    {\"role\": \"system\", \"content\": system_prompt},\n",
    "    {\"role\": \"user\", \"content\": \"hello\"}\n",
    "  ]\n",
    ")\n",
    "print(response.choices[0].message.content)"
   ]
  },
  {
   "cell_type": "code",
   "execution_count": 41,
   "id": "598d21a6-8a67-428e-9b7b-3d6d596949a0",
   "metadata": {},
   "outputs": [],
   "source": [
    "from langchain_openai import ChatOpenAI\n",
    "from langchain.prompts import ChatPromptTemplate\n",
    "from langchain.schema import StrOutputParser"
   ]
  },
  {
   "cell_type": "code",
   "execution_count": 42,
   "id": "777893d3-ca55-4571-9c26-25a0e7abfd4b",
   "metadata": {},
   "outputs": [],
   "source": [
    "llm = ChatOpenAI(model=model)"
   ]
  },
  {
   "cell_type": "code",
   "execution_count": 43,
   "id": "0ed2f5ad-6ae1-42b6-9c91-1704889edb5d",
   "metadata": {},
   "outputs": [],
   "source": [
    "prompt_template = ChatPromptTemplate.from_messages(\n",
    "    [\n",
    "        (\"system\", system_prompt),\n",
    "        (\"human\", \"{input}\" )\n",
    "    ]\n",
    ")"
   ]
  },
  {
   "cell_type": "code",
   "execution_count": 44,
   "id": "af14af53-638d-4d9c-bf05-812644089e6b",
   "metadata": {},
   "outputs": [],
   "source": [
    "chain = prompt_template | llm | StrOutputParser()"
   ]
  },
  {
   "cell_type": "code",
   "execution_count": 45,
   "id": "2bbe1a88-a1b3-4ec5-8ec0-5470df0b291e",
   "metadata": {},
   "outputs": [
    {
     "data": {
      "text/plain": [
       "\"Sure, the Italian BMT. Is there anything else you'd like to order?\""
      ]
     },
     "execution_count": 45,
     "metadata": {},
     "output_type": "execute_result"
    }
   ],
   "source": [
    "chain.invoke({\"input\": \"I want italian BMT\"})"
   ]
  },
  {
   "cell_type": "code",
   "execution_count": null,
   "id": "f1022d20-c29a-47ef-aa90-272e046e9354",
   "metadata": {},
   "outputs": [],
   "source": []
  },
  {
   "cell_type": "code",
   "execution_count": null,
   "id": "d5eca5e3-0d6d-4de4-bcb0-9a9a344d4eb8",
   "metadata": {},
   "outputs": [],
   "source": []
  }
 ],
 "metadata": {
  "kernelspec": {
   "display_name": "Python 3 (ipykernel)",
   "language": "python",
   "name": "python3"
  },
  "language_info": {
   "codemirror_mode": {
    "name": "ipython",
    "version": 3
   },
   "file_extension": ".py",
   "mimetype": "text/x-python",
   "name": "python",
   "nbconvert_exporter": "python",
   "pygments_lexer": "ipython3",
   "version": "3.12.3"
  }
 },
 "nbformat": 4,
 "nbformat_minor": 5
}

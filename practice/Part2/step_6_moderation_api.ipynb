{
 "cells": [
  {
   "cell_type": "markdown",
   "id": "c750d25a-8b14-4211-b263-f7bf0a2ef7d7",
   "metadata": {},
   "source": [
    "# Moderation API"
   ]
  },
  {
   "cell_type": "markdown",
   "id": "38e5af29-ff67-4a61-ace4-36df9d3d9480",
   "metadata": {},
   "source": [
    "Moderation API는 콘텐츠가 OpenAI의 사용 정책을 준수하는지 확인하는 데 사용할 수 있는 도구입니다. 따라서 개발자는 사용 정책에서 금지하는 콘텐츠를 식별하고 필터링 등의 조치를 취할 수 있습니다."
   ]
  },
  {
   "cell_type": "code",
   "execution_count": 1,
   "id": "2ebdddea-be07-458a-bd8c-35826a1e0a48",
   "metadata": {},
   "outputs": [],
   "source": [
    "from openai import OpenAI\n",
    "client = OpenAI()"
   ]
  },
  {
   "cell_type": "code",
   "execution_count": 2,
   "id": "75519891-90dd-47f2-a81c-b84629578bee",
   "metadata": {},
   "outputs": [],
   "source": [
    "response = client.moderations.create(input=\"Sample text goes here.\")\n",
    "\n",
    "output = response.results[0]"
   ]
  },
  {
   "cell_type": "code",
   "execution_count": 3,
   "id": "1b1260a6-7ea6-406f-b2e5-e719fb6c522e",
   "metadata": {},
   "outputs": [
    {
     "data": {
      "text/plain": [
       "Moderation(categories=Categories(harassment=False, harassment_threatening=False, hate=False, hate_threatening=False, illicit=None, illicit_violent=None, self_harm=False, self_harm_instructions=False, self_harm_intent=False, sexual=False, sexual_minors=False, violence=False, violence_graphic=False, self-harm=False, sexual/minors=False, hate/threatening=False, violence/graphic=False, self-harm/intent=False, self-harm/instructions=False, harassment/threatening=False), category_applied_input_types=None, category_scores=CategoryScores(harassment=2.1957972421660088e-05, harassment_threatening=7.920744792500045e-06, hate=3.3822299883468077e-05, hate_threatening=4.28711395272785e-08, illicit=None, illicit_violent=None, self_harm=8.482592761538399e-07, self_harm_instructions=1.33808413238512e-07, self_harm_intent=1.859364004985764e-07, sexual=5.259300451143645e-05, sexual_minors=3.420051871216856e-05, violence=0.0007651916821487248, violence_graphic=3.136725354124792e-05, self-harm=8.482592761538399e-07, sexual/minors=3.420051871216856e-05, hate/threatening=4.28711395272785e-08, violence/graphic=3.136725354124792e-05, self-harm/intent=1.859364004985764e-07, self-harm/instructions=1.33808413238512e-07, harassment/threatening=7.920744792500045e-06), flagged=False)"
      ]
     },
     "execution_count": 3,
     "metadata": {},
     "output_type": "execute_result"
    }
   ],
   "source": [
    "output"
   ]
  },
  {
   "cell_type": "code",
   "execution_count": 4,
   "id": "93d3d5d7-9adf-46db-bdf7-4cedbd450c5f",
   "metadata": {},
   "outputs": [
    {
     "data": {
      "text/plain": [
       "{'categories': {'harassment': False,\n",
       "  'harassment_threatening': False,\n",
       "  'hate': False,\n",
       "  'hate_threatening': False,\n",
       "  'illicit': None,\n",
       "  'illicit_violent': None,\n",
       "  'self_harm': False,\n",
       "  'self_harm_instructions': False,\n",
       "  'self_harm_intent': False,\n",
       "  'sexual': False,\n",
       "  'sexual_minors': False,\n",
       "  'violence': False,\n",
       "  'violence_graphic': False,\n",
       "  'self-harm': False,\n",
       "  'sexual/minors': False,\n",
       "  'hate/threatening': False,\n",
       "  'violence/graphic': False,\n",
       "  'self-harm/intent': False,\n",
       "  'self-harm/instructions': False,\n",
       "  'harassment/threatening': False},\n",
       " 'category_applied_input_types': None,\n",
       " 'category_scores': {'harassment': 2.1957972421660088e-05,\n",
       "  'harassment_threatening': 7.920744792500045e-06,\n",
       "  'hate': 3.3822299883468077e-05,\n",
       "  'hate_threatening': 4.28711395272785e-08,\n",
       "  'illicit': None,\n",
       "  'illicit_violent': None,\n",
       "  'self_harm': 8.482592761538399e-07,\n",
       "  'self_harm_instructions': 1.33808413238512e-07,\n",
       "  'self_harm_intent': 1.859364004985764e-07,\n",
       "  'sexual': 5.259300451143645e-05,\n",
       "  'sexual_minors': 3.420051871216856e-05,\n",
       "  'violence': 0.0007651916821487248,\n",
       "  'violence_graphic': 3.136725354124792e-05,\n",
       "  'self-harm': 8.482592761538399e-07,\n",
       "  'sexual/minors': 3.420051871216856e-05,\n",
       "  'hate/threatening': 4.28711395272785e-08,\n",
       "  'violence/graphic': 3.136725354124792e-05,\n",
       "  'self-harm/intent': 1.859364004985764e-07,\n",
       "  'self-harm/instructions': 1.33808413238512e-07,\n",
       "  'harassment/threatening': 7.920744792500045e-06},\n",
       " 'flagged': False}"
      ]
     },
     "execution_count": 4,
     "metadata": {},
     "output_type": "execute_result"
    }
   ],
   "source": [
    "output.model_dump()"
   ]
  },
  {
   "cell_type": "code",
   "execution_count": 5,
   "id": "0d325050-64f4-4dbf-a062-e0075fecb72f",
   "metadata": {},
   "outputs": [],
   "source": [
    "def analysis(text):\n",
    "    response = client.moderations.create(input=text) #input text가 들어오면, \n",
    "    output = response.results[0] #moderation API를 호출하고, \n",
    "    output_dict = output.model_dump() #input text를 dcitionary 형태로 만들고,\n",
    "    flagged_list = [] #moderation uissue를 저장하는 변수.\n",
    "    for k, v in output_dict['categories'].items(): #카테고리를 순회하면서 , key: value 형태를 얻고,\n",
    "        #if value = true (detect moderation issue),\n",
    "        if v:`\n",
    "            score = output_dict['category_scores'][k] # category score의 key 를 이용해서 점수를 가져오고,\n",
    "            flagged_list.append((k, score)) #moderation issue 저장하는 변수에 category key와 score를 저장 후 flagged_list에 append해서, 리턴.\n",
    "    return flagged_list"
   ]
  },
  {
   "cell_type": "code",
   "execution_count": 6,
   "id": "2e7481b4-83a4-4c66-bdbd-eb25ac3783ee",
   "metadata": {},
   "outputs": [
    {
     "data": {
      "text/plain": [
       "[('harassment_threatening', 0.397981196641922),\n",
       " ('violence', 0.9980654120445251),\n",
       " ('harassment/threatening', 0.397981196641922)]"
      ]
     },
     "execution_count": 6,
     "metadata": {},
     "output_type": "execute_result"
    }
   ],
   "source": [
    "analysis(\"I'll kill you\")"
   ]
  },
  {
   "cell_type": "code",
   "execution_count": 7,
   "id": "3f3710e8-88cd-47e6-8c16-db2a93f1185e",
   "metadata": {},
   "outputs": [
    {
     "data": {
      "text/plain": [
       "[('harassment', 0.9252092838287354), ('hate', 0.7725232839584351)]"
      ]
     },
     "execution_count": 7,
     "metadata": {},
     "output_type": "execute_result"
    }
   ],
   "source": [
    "analysis(\"I hate asian\")"
   ]
  },
  {
   "cell_type": "code",
   "execution_count": null,
   "id": "9bfdbaea-6c7f-42d1-bbc6-37b52686aaea",
   "metadata": {},
   "outputs": [],
   "source": []
  }
 ],
 "metadata": {
  "kernelspec": {
   "display_name": "Python 3 (ipykernel)",
   "language": "python",
   "name": "python3"
  },
  "language_info": {
   "codemirror_mode": {
    "name": "ipython",
    "version": 3
   },
   "file_extension": ".py",
   "mimetype": "text/x-python",
   "name": "python",
   "nbconvert_exporter": "python",
   "pygments_lexer": "ipython3",
   "version": "3.12.8"
  }
 },
 "nbformat": 4,
 "nbformat_minor": 5
}

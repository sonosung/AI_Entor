{
 "cells": [
  {
   "cell_type": "code",
   "execution_count": 3,
   "id": "5bd777ba-4d87-4f89-a064-4d2536dbd4dd",
   "metadata": {},
   "outputs": [],
   "source": [
    "import newmodule"
   ]
  },
  {
   "cell_type": "code",
   "execution_count": 7,
   "id": "91a62d8f-64a5-4b29-a0c4-4b29493ab633",
   "metadata": {},
   "outputs": [
    {
     "name": "stdout",
     "output_type": "stream",
     "text": [
      "Hello, james\n"
     ]
    }
   ],
   "source": [
    "print(newmodule.greeting('james'))"
   ]
  },
  {
   "cell_type": "code",
   "execution_count": null,
   "id": "2ffe4307-18e3-421e-a4b8-88df152572e1",
   "metadata": {},
   "outputs": [],
   "source": []
  }
 ],
 "metadata": {
  "kernelspec": {
   "display_name": "Python 3 (ipykernel)",
   "language": "python",
   "name": "python3"
  },
  "language_info": {
   "codemirror_mode": {
    "name": "ipython",
    "version": 3
   },
   "file_extension": ".py",
   "mimetype": "text/x-python",
   "name": "python",
   "nbconvert_exporter": "python",
   "pygments_lexer": "ipython3",
   "version": "3.13.1"
  }
 },
 "nbformat": 4,
 "nbformat_minor": 5
}

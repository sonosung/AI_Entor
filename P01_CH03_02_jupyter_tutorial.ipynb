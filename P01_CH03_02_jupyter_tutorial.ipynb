{
 "cells": [
  {
   "cell_type": "markdown",
   "id": "ee335952-03b5-48d3-b184-ab8b91b51268",
   "metadata": {},
   "source": [
    "# Jupyter Lab Tutorial"
   ]
  },
  {
   "cell_type": "markdown",
   "id": "773cc204-f53f-4ee0-bab4-d51ba4ccd38e",
   "metadata": {},
   "source": [
    "# Jupyter Lab 둘러보기\n",
    "- 디렉토리 조회\n",
    "- 파일 생성\n",
    "- 테마\n",
    "- 재실행"
   ]
  },
  {
   "cell_type": "markdown",
   "id": "7f030fa2-e824-417e-a4e8-9bcf3afafc7e",
   "metadata": {},
   "source": [
    "# Jupyter 의 기본 단위 \n",
    "\n",
    "스크립트와는 달리, 코드가 기본 콘텐츠인 경우에 다른 모든 것을 주석으로 적용해야 합니다. 하지만 노트북은 셀을 기반으로 합니다.\n",
    "\n",
    "셀에는 다음과 같은 형식이 있을 수 있습니다:\n",
    "\n",
    "- 마크다운 형식의 텍스트 셀\n",
    "- 코드 셀 (파이썬 노트북에서는 파이썬 코드가 기본이지만, 다른 언어도 가능)\n",
    "- 원시, 형식이 지정되지 않은 텍스트"
   ]
  },
  {
   "cell_type": "markdown",
   "id": "404a5417-dc7e-4d8a-b7c3-e2449c837de9",
   "metadata": {},
   "source": [
    "### Code Cells\n",
    "\n",
    "코드와 그 결과는 특별히 지정된 콘텐츠 블록에 표시\n",
    "<kbd>shift</kbd> + <kbd>return</kbd> 또는 <kbd>&#9654;</kbd> 버튼으로 실행"
   ]
  },
  {
   "cell_type": "code",
   "execution_count": 6,
   "id": "57adfb82-99b2-4849-9a59-911062b70230",
   "metadata": {},
   "outputs": [
    {
     "data": {
      "text/plain": [
       "111"
      ]
     },
     "execution_count": 6,
     "metadata": {},
     "output_type": "execute_result"
    }
   ],
   "source": [
    "2 + 109"
   ]
  },
  {
   "cell_type": "code",
   "execution_count": 13,
   "id": "714f8aa0-4a55-4031-81d6-86fc7c4c8c21",
   "metadata": {},
   "outputs": [],
   "source": [
    "a = 100\n",
    "b = 20"
   ]
  },
  {
   "cell_type": "code",
   "execution_count": 14,
   "id": "1752deaf-87e2-4153-9ac7-3aa431478420",
   "metadata": {},
   "outputs": [],
   "source": [
    "z = a + b"
   ]
  },
  {
   "cell_type": "code",
   "execution_count": 15,
   "id": "f8468eac-2f81-4525-96de-9a3a8a00523d",
   "metadata": {},
   "outputs": [
    {
     "data": {
      "text/plain": [
       "120"
      ]
     },
     "execution_count": 15,
     "metadata": {},
     "output_type": "execute_result"
    }
   ],
   "source": [
    "z"
   ]
  },
  {
   "cell_type": "code",
   "execution_count": null,
   "id": "529bf617-a80c-4565-b9fe-9c969f9d7f9a",
   "metadata": {},
   "outputs": [],
   "source": []
  },
  {
   "cell_type": "markdown",
   "id": "6e053b80-9658-44ff-b050-49086aabcd08",
   "metadata": {
    "tags": []
   },
   "source": [
    "### Markdown Cells\n",
    "마크다운을 지원하는 셀\n",
    "\n",
    "- *italics* \n",
    "- **bold**\n",
    "- `code`\n",
    "- [links](https://jupyterlab.readthedocs.io/)\n",
    "- Inline LaTeX equations: $E = mc^{2}$\n",
    "\n",
    "\n",
    "\\begin{equation}\n",
    "e^x=\\sum_{i=0}^\\infty \\frac{1}{i!}x^i\n",
    "\\end{equation}"
   ]
  },
  {
   "cell_type": "markdown",
   "id": "02fcd57d-2475-4665-9a85-d3f7e7587fb7",
   "metadata": {},
   "source": [
    "### Raw Cells\n",
    "\n",
    "Raw Text"
   ]
  },
  {
   "cell_type": "raw",
   "id": "d15fb857-95b4-4af2-af24-52cf374be398",
   "metadata": {},
   "source": [
    "- *italics* \n",
    "- **bold**\n",
    "- `code`\n",
    "- [links](https://jupyterlab.readthedocs.io/)\n",
    "- Inline LaTeX equations: $E = mc^{2}$\n",
    "\n",
    "\\begin{equation}\n",
    "e^x=\\sum_{i=0}^\\infty \\frac{1}{i!}x^i\n",
    "\\end{equation}"
   ]
  },
  {
   "cell_type": "code",
   "execution_count": null,
   "id": "a8c3dd0c-722d-4155-b3ae-71a485697333",
   "metadata": {},
   "outputs": [],
   "source": []
  },
  {
   "cell_type": "markdown",
   "id": "5387c758-5cd8-49ef-836b-5ff5f14318b3",
   "metadata": {},
   "source": [
    "## shell 실행"
   ]
  },
  {
   "cell_type": "code",
   "execution_count": 16,
   "id": "f7e0ef9a-b45a-4656-add4-09cdd0f6ef4b",
   "metadata": {},
   "outputs": [],
   "source": [
    "!mkdir tmp"
   ]
  },
  {
   "cell_type": "code",
   "execution_count": 18,
   "id": "54f536b3-e642-41ee-b766-62b0377318d9",
   "metadata": {
    "scrolled": true
   },
   "outputs": [
    {
     "name": "stdout",
     "output_type": "stream",
     "text": [
      "P01_CH03_02_jupyter_tutorial.ipynb\n",
      "tmp\n"
     ]
    }
   ],
   "source": [
    "!ls"
   ]
  },
  {
   "cell_type": "code",
   "execution_count": 19,
   "id": "0403ad78-72f7-4261-86a6-95272a5f926d",
   "metadata": {
    "scrolled": true
   },
   "outputs": [
    {
     "name": "stdout",
     "output_type": "stream",
     "text": [
      "Collecting tqdm\n",
      "  Downloading tqdm-4.67.1-py3-none-any.whl.metadata (57 kB)\n",
      "Requirement already satisfied: colorama in c:\\users\\msh07\\appdata\\local\\programs\\python\\python313\\lib\\site-packages (from tqdm) (0.4.6)\n",
      "Downloading tqdm-4.67.1-py3-none-any.whl (78 kB)\n",
      "Installing collected packages: tqdm\n",
      "Successfully installed tqdm-4.67.1\n"
     ]
    }
   ],
   "source": [
    "!pip install tqdm"
   ]
  },
  {
   "cell_type": "code",
   "execution_count": 20,
   "id": "aac91360-5739-4eec-a694-02da65610236",
   "metadata": {},
   "outputs": [
    {
     "name": "stderr",
     "output_type": "stream",
     "text": [
      "100%|████████████████████████████████████████████████| 20/20 [00:10<00:00,  2.00it/s]\n"
     ]
    }
   ],
   "source": [
    "import time\n",
    "from tqdm import tqdm\n",
    "\n",
    "for i in tqdm(range(20)):\n",
    "    time.sleep(.5)"
   ]
  },
  {
   "cell_type": "code",
   "execution_count": 24,
   "id": "97567f7e-effe-4702-a0a2-cd3efdafc6fb",
   "metadata": {},
   "outputs": [
    {
     "name": "stdout",
     "output_type": "stream",
     "text": [
      "Requirement already satisfied: jupyterlab-git in c:\\users\\msh07\\appdata\\local\\programs\\python\\python313\\lib\\site-packages (0.50.2)\n",
      "Requirement already satisfied: jupyter-server<3,>=2.0.1 in c:\\users\\msh07\\appdata\\local\\programs\\python\\python313\\lib\\site-packages (from jupyterlab-git) (2.14.2)\n",
      "Requirement already satisfied: nbdime~=4.0.1 in c:\\users\\msh07\\appdata\\local\\programs\\python\\python313\\lib\\site-packages (from jupyterlab-git) (4.0.2)\n",
      "Requirement already satisfied: nbformat in c:\\users\\msh07\\appdata\\local\\programs\\python\\python313\\lib\\site-packages (from jupyterlab-git) (5.10.4)\n",
      "Requirement already satisfied: packaging in c:\\users\\msh07\\appdata\\local\\programs\\python\\python313\\lib\\site-packages (from jupyterlab-git) (24.2)\n",
      "Requirement already satisfied: pexpect in c:\\users\\msh07\\appdata\\local\\programs\\python\\python313\\lib\\site-packages (from jupyterlab-git) (4.9.0)\n",
      "Requirement already satisfied: traitlets~=5.0 in c:\\users\\msh07\\appdata\\local\\programs\\python\\python313\\lib\\site-packages (from jupyterlab-git) (5.14.3)\n",
      "Requirement already satisfied: anyio>=3.1.0 in c:\\users\\msh07\\appdata\\local\\programs\\python\\python313\\lib\\site-packages (from jupyter-server<3,>=2.0.1->jupyterlab-git) (4.7.0)\n",
      "Requirement already satisfied: argon2-cffi>=21.1 in c:\\users\\msh07\\appdata\\local\\programs\\python\\python313\\lib\\site-packages (from jupyter-server<3,>=2.0.1->jupyterlab-git) (23.1.0)\n",
      "Requirement already satisfied: jinja2>=3.0.3 in c:\\users\\msh07\\appdata\\local\\programs\\python\\python313\\lib\\site-packages (from jupyter-server<3,>=2.0.1->jupyterlab-git) (3.1.4)\n",
      "Requirement already satisfied: jupyter-client>=7.4.4 in c:\\users\\msh07\\appdata\\local\\programs\\python\\python313\\lib\\site-packages (from jupyter-server<3,>=2.0.1->jupyterlab-git) (8.6.3)\n",
      "Requirement already satisfied: jupyter-core!=5.0.*,>=4.12 in c:\\users\\msh07\\appdata\\local\\programs\\python\\python313\\lib\\site-packages (from jupyter-server<3,>=2.0.1->jupyterlab-git) (5.7.2)\n",
      "Requirement already satisfied: jupyter-events>=0.9.0 in c:\\users\\msh07\\appdata\\local\\programs\\python\\python313\\lib\\site-packages (from jupyter-server<3,>=2.0.1->jupyterlab-git) (0.10.0)\n",
      "Requirement already satisfied: jupyter-server-terminals>=0.4.4 in c:\\users\\msh07\\appdata\\local\\programs\\python\\python313\\lib\\site-packages (from jupyter-server<3,>=2.0.1->jupyterlab-git) (0.5.3)\n",
      "Requirement already satisfied: nbconvert>=6.4.4 in c:\\users\\msh07\\appdata\\local\\programs\\python\\python313\\lib\\site-packages (from jupyter-server<3,>=2.0.1->jupyterlab-git) (7.16.4)\n",
      "Requirement already satisfied: overrides>=5.0 in c:\\users\\msh07\\appdata\\local\\programs\\python\\python313\\lib\\site-packages (from jupyter-server<3,>=2.0.1->jupyterlab-git) (7.7.0)\n",
      "Requirement already satisfied: prometheus-client>=0.9 in c:\\users\\msh07\\appdata\\local\\programs\\python\\python313\\lib\\site-packages (from jupyter-server<3,>=2.0.1->jupyterlab-git) (0.21.1)\n",
      "Requirement already satisfied: pywinpty>=2.0.1 in c:\\users\\msh07\\appdata\\local\\programs\\python\\python313\\lib\\site-packages (from jupyter-server<3,>=2.0.1->jupyterlab-git) (2.0.14)\n",
      "Requirement already satisfied: pyzmq>=24 in c:\\users\\msh07\\appdata\\local\\programs\\python\\python313\\lib\\site-packages (from jupyter-server<3,>=2.0.1->jupyterlab-git) (26.2.0)\n",
      "Requirement already satisfied: send2trash>=1.8.2 in c:\\users\\msh07\\appdata\\local\\programs\\python\\python313\\lib\\site-packages (from jupyter-server<3,>=2.0.1->jupyterlab-git) (1.8.3)\n",
      "Requirement already satisfied: terminado>=0.8.3 in c:\\users\\msh07\\appdata\\local\\programs\\python\\python313\\lib\\site-packages (from jupyter-server<3,>=2.0.1->jupyterlab-git) (0.18.1)\n",
      "Requirement already satisfied: tornado>=6.2.0 in c:\\users\\msh07\\appdata\\local\\programs\\python\\python313\\lib\\site-packages (from jupyter-server<3,>=2.0.1->jupyterlab-git) (6.4.2)\n",
      "Requirement already satisfied: websocket-client>=1.7 in c:\\users\\msh07\\appdata\\local\\programs\\python\\python313\\lib\\site-packages (from jupyter-server<3,>=2.0.1->jupyterlab-git) (1.8.0)\n",
      "Requirement already satisfied: colorama in c:\\users\\msh07\\appdata\\local\\programs\\python\\python313\\lib\\site-packages (from nbdime~=4.0.1->jupyterlab-git) (0.4.6)\n",
      "Requirement already satisfied: gitpython!=2.1.4,!=2.1.5,!=2.1.6 in c:\\users\\msh07\\appdata\\local\\programs\\python\\python313\\lib\\site-packages (from nbdime~=4.0.1->jupyterlab-git) (3.1.43)\n",
      "Requirement already satisfied: jupyter-server-mathjax>=0.2.2 in c:\\users\\msh07\\appdata\\local\\programs\\python\\python313\\lib\\site-packages (from nbdime~=4.0.1->jupyterlab-git) (0.2.6)\n",
      "Requirement already satisfied: pygments in c:\\users\\msh07\\appdata\\local\\programs\\python\\python313\\lib\\site-packages (from nbdime~=4.0.1->jupyterlab-git) (2.18.0)\n",
      "Requirement already satisfied: requests in c:\\users\\msh07\\appdata\\local\\programs\\python\\python313\\lib\\site-packages (from nbdime~=4.0.1->jupyterlab-git) (2.32.3)\n",
      "Requirement already satisfied: fastjsonschema>=2.15 in c:\\users\\msh07\\appdata\\local\\programs\\python\\python313\\lib\\site-packages (from nbformat->jupyterlab-git) (2.21.1)\n",
      "Requirement already satisfied: jsonschema>=2.6 in c:\\users\\msh07\\appdata\\local\\programs\\python\\python313\\lib\\site-packages (from nbformat->jupyterlab-git) (4.23.0)\n",
      "Requirement already satisfied: ptyprocess>=0.5 in c:\\users\\msh07\\appdata\\local\\programs\\python\\python313\\lib\\site-packages (from pexpect->jupyterlab-git) (0.7.0)\n",
      "Requirement already satisfied: idna>=2.8 in c:\\users\\msh07\\appdata\\local\\programs\\python\\python313\\lib\\site-packages (from anyio>=3.1.0->jupyter-server<3,>=2.0.1->jupyterlab-git) (3.10)\n",
      "Requirement already satisfied: sniffio>=1.1 in c:\\users\\msh07\\appdata\\local\\programs\\python\\python313\\lib\\site-packages (from anyio>=3.1.0->jupyter-server<3,>=2.0.1->jupyterlab-git) (1.3.1)\n",
      "Requirement already satisfied: argon2-cffi-bindings in c:\\users\\msh07\\appdata\\local\\programs\\python\\python313\\lib\\site-packages (from argon2-cffi>=21.1->jupyter-server<3,>=2.0.1->jupyterlab-git) (21.2.0)\n",
      "Requirement already satisfied: gitdb<5,>=4.0.1 in c:\\users\\msh07\\appdata\\local\\programs\\python\\python313\\lib\\site-packages (from gitpython!=2.1.4,!=2.1.5,!=2.1.6->nbdime~=4.0.1->jupyterlab-git) (4.0.11)\n",
      "Requirement already satisfied: MarkupSafe>=2.0 in c:\\users\\msh07\\appdata\\local\\programs\\python\\python313\\lib\\site-packages (from jinja2>=3.0.3->jupyter-server<3,>=2.0.1->jupyterlab-git) (3.0.2)\n",
      "Requirement already satisfied: attrs>=22.2.0 in c:\\users\\msh07\\appdata\\local\\programs\\python\\python313\\lib\\site-packages (from jsonschema>=2.6->nbformat->jupyterlab-git) (24.2.0)\n",
      "Requirement already satisfied: jsonschema-specifications>=2023.03.6 in c:\\users\\msh07\\appdata\\local\\programs\\python\\python313\\lib\\site-packages (from jsonschema>=2.6->nbformat->jupyterlab-git) (2024.10.1)\n",
      "Requirement already satisfied: referencing>=0.28.4 in c:\\users\\msh07\\appdata\\local\\programs\\python\\python313\\lib\\site-packages (from jsonschema>=2.6->nbformat->jupyterlab-git) (0.35.1)\n",
      "Requirement already satisfied: rpds-py>=0.7.1 in c:\\users\\msh07\\appdata\\local\\programs\\python\\python313\\lib\\site-packages (from jsonschema>=2.6->nbformat->jupyterlab-git) (0.22.3)\n",
      "Requirement already satisfied: python-dateutil>=2.8.2 in c:\\users\\msh07\\appdata\\local\\programs\\python\\python313\\lib\\site-packages (from jupyter-client>=7.4.4->jupyter-server<3,>=2.0.1->jupyterlab-git) (2.9.0.post0)\n",
      "Requirement already satisfied: platformdirs>=2.5 in c:\\users\\msh07\\appdata\\local\\programs\\python\\python313\\lib\\site-packages (from jupyter-core!=5.0.*,>=4.12->jupyter-server<3,>=2.0.1->jupyterlab-git) (4.3.6)\n",
      "Requirement already satisfied: pywin32>=300 in c:\\users\\msh07\\appdata\\local\\programs\\python\\python313\\lib\\site-packages (from jupyter-core!=5.0.*,>=4.12->jupyter-server<3,>=2.0.1->jupyterlab-git) (308)\n",
      "Requirement already satisfied: python-json-logger>=2.0.4 in c:\\users\\msh07\\appdata\\local\\programs\\python\\python313\\lib\\site-packages (from jupyter-events>=0.9.0->jupyter-server<3,>=2.0.1->jupyterlab-git) (3.2.0)\n",
      "Requirement already satisfied: pyyaml>=5.3 in c:\\users\\msh07\\appdata\\local\\programs\\python\\python313\\lib\\site-packages (from jupyter-events>=0.9.0->jupyter-server<3,>=2.0.1->jupyterlab-git) (6.0.2)\n",
      "Requirement already satisfied: rfc3339-validator in c:\\users\\msh07\\appdata\\local\\programs\\python\\python313\\lib\\site-packages (from jupyter-events>=0.9.0->jupyter-server<3,>=2.0.1->jupyterlab-git) (0.1.4)\n",
      "Requirement already satisfied: rfc3986-validator>=0.1.1 in c:\\users\\msh07\\appdata\\local\\programs\\python\\python313\\lib\\site-packages (from jupyter-events>=0.9.0->jupyter-server<3,>=2.0.1->jupyterlab-git) (0.1.1)\n",
      "Requirement already satisfied: beautifulsoup4 in c:\\users\\msh07\\appdata\\local\\programs\\python\\python313\\lib\\site-packages (from nbconvert>=6.4.4->jupyter-server<3,>=2.0.1->jupyterlab-git) (4.12.3)\n",
      "Requirement already satisfied: bleach!=5.0.0 in c:\\users\\msh07\\appdata\\local\\programs\\python\\python313\\lib\\site-packages (from nbconvert>=6.4.4->jupyter-server<3,>=2.0.1->jupyterlab-git) (6.2.0)\n",
      "Requirement already satisfied: defusedxml in c:\\users\\msh07\\appdata\\local\\programs\\python\\python313\\lib\\site-packages (from nbconvert>=6.4.4->jupyter-server<3,>=2.0.1->jupyterlab-git) (0.7.1)\n",
      "Requirement already satisfied: jupyterlab-pygments in c:\\users\\msh07\\appdata\\local\\programs\\python\\python313\\lib\\site-packages (from nbconvert>=6.4.4->jupyter-server<3,>=2.0.1->jupyterlab-git) (0.3.0)\n",
      "Requirement already satisfied: mistune<4,>=2.0.3 in c:\\users\\msh07\\appdata\\local\\programs\\python\\python313\\lib\\site-packages (from nbconvert>=6.4.4->jupyter-server<3,>=2.0.1->jupyterlab-git) (3.0.2)\n",
      "Requirement already satisfied: nbclient>=0.5.0 in c:\\users\\msh07\\appdata\\local\\programs\\python\\python313\\lib\\site-packages (from nbconvert>=6.4.4->jupyter-server<3,>=2.0.1->jupyterlab-git) (0.10.1)\n",
      "Requirement already satisfied: pandocfilters>=1.4.1 in c:\\users\\msh07\\appdata\\local\\programs\\python\\python313\\lib\\site-packages (from nbconvert>=6.4.4->jupyter-server<3,>=2.0.1->jupyterlab-git) (1.5.1)\n",
      "Requirement already satisfied: tinycss2 in c:\\users\\msh07\\appdata\\local\\programs\\python\\python313\\lib\\site-packages (from nbconvert>=6.4.4->jupyter-server<3,>=2.0.1->jupyterlab-git) (1.4.0)\n",
      "Requirement already satisfied: charset-normalizer<4,>=2 in c:\\users\\msh07\\appdata\\local\\programs\\python\\python313\\lib\\site-packages (from requests->nbdime~=4.0.1->jupyterlab-git) (3.4.0)\n",
      "Requirement already satisfied: urllib3<3,>=1.21.1 in c:\\users\\msh07\\appdata\\local\\programs\\python\\python313\\lib\\site-packages (from requests->nbdime~=4.0.1->jupyterlab-git) (2.2.3)\n",
      "Requirement already satisfied: certifi>=2017.4.17 in c:\\users\\msh07\\appdata\\local\\programs\\python\\python313\\lib\\site-packages (from requests->nbdime~=4.0.1->jupyterlab-git) (2024.12.14)\n",
      "Requirement already satisfied: webencodings in c:\\users\\msh07\\appdata\\local\\programs\\python\\python313\\lib\\site-packages (from bleach!=5.0.0->nbconvert>=6.4.4->jupyter-server<3,>=2.0.1->jupyterlab-git) (0.5.1)\n",
      "Requirement already satisfied: smmap<6,>=3.0.1 in c:\\users\\msh07\\appdata\\local\\programs\\python\\python313\\lib\\site-packages (from gitdb<5,>=4.0.1->gitpython!=2.1.4,!=2.1.5,!=2.1.6->nbdime~=4.0.1->jupyterlab-git) (5.0.1)\n",
      "Requirement already satisfied: fqdn in c:\\users\\msh07\\appdata\\local\\programs\\python\\python313\\lib\\site-packages (from jsonschema[format-nongpl]>=4.18.0->jupyter-events>=0.9.0->jupyter-server<3,>=2.0.1->jupyterlab-git) (1.5.1)\n",
      "Requirement already satisfied: isoduration in c:\\users\\msh07\\appdata\\local\\programs\\python\\python313\\lib\\site-packages (from jsonschema[format-nongpl]>=4.18.0->jupyter-events>=0.9.0->jupyter-server<3,>=2.0.1->jupyterlab-git) (20.11.0)\n",
      "Requirement already satisfied: jsonpointer>1.13 in c:\\users\\msh07\\appdata\\local\\programs\\python\\python313\\lib\\site-packages (from jsonschema[format-nongpl]>=4.18.0->jupyter-events>=0.9.0->jupyter-server<3,>=2.0.1->jupyterlab-git) (3.0.0)\n",
      "Requirement already satisfied: uri-template in c:\\users\\msh07\\appdata\\local\\programs\\python\\python313\\lib\\site-packages (from jsonschema[format-nongpl]>=4.18.0->jupyter-events>=0.9.0->jupyter-server<3,>=2.0.1->jupyterlab-git) (1.3.0)\n",
      "Requirement already satisfied: webcolors>=24.6.0 in c:\\users\\msh07\\appdata\\local\\programs\\python\\python313\\lib\\site-packages (from jsonschema[format-nongpl]>=4.18.0->jupyter-events>=0.9.0->jupyter-server<3,>=2.0.1->jupyterlab-git) (24.11.1)\n",
      "Requirement already satisfied: six>=1.5 in c:\\users\\msh07\\appdata\\local\\programs\\python\\python313\\lib\\site-packages (from python-dateutil>=2.8.2->jupyter-client>=7.4.4->jupyter-server<3,>=2.0.1->jupyterlab-git) (1.17.0)\n",
      "Requirement already satisfied: cffi>=1.0.1 in c:\\users\\msh07\\appdata\\local\\programs\\python\\python313\\lib\\site-packages (from argon2-cffi-bindings->argon2-cffi>=21.1->jupyter-server<3,>=2.0.1->jupyterlab-git) (1.17.1)\n",
      "Requirement already satisfied: soupsieve>1.2 in c:\\users\\msh07\\appdata\\local\\programs\\python\\python313\\lib\\site-packages (from beautifulsoup4->nbconvert>=6.4.4->jupyter-server<3,>=2.0.1->jupyterlab-git) (2.6)\n",
      "Requirement already satisfied: pycparser in c:\\users\\msh07\\appdata\\local\\programs\\python\\python313\\lib\\site-packages (from cffi>=1.0.1->argon2-cffi-bindings->argon2-cffi>=21.1->jupyter-server<3,>=2.0.1->jupyterlab-git) (2.22)\n",
      "Requirement already satisfied: arrow>=0.15.0 in c:\\users\\msh07\\appdata\\local\\programs\\python\\python313\\lib\\site-packages (from isoduration->jsonschema[format-nongpl]>=4.18.0->jupyter-events>=0.9.0->jupyter-server<3,>=2.0.1->jupyterlab-git) (1.3.0)\n",
      "Requirement already satisfied: types-python-dateutil>=2.8.10 in c:\\users\\msh07\\appdata\\local\\programs\\python\\python313\\lib\\site-packages (from arrow>=0.15.0->isoduration->jsonschema[format-nongpl]>=4.18.0->jupyter-events>=0.9.0->jupyter-server<3,>=2.0.1->jupyterlab-git) (2.9.0.20241206)\n",
      "Note: you may need to restart the kernel to use updated packages.\n"
     ]
    }
   ],
   "source": [
    "pip install --upgrade jupyterlab-git"
   ]
  },
  {
   "cell_type": "code",
   "execution_count": null,
   "id": "4d8e49bb-e70a-4e0e-b2d6-f8fbcb360e53",
   "metadata": {},
   "outputs": [],
   "source": [
    "!jupyter lab build\n",
    "!pip install .e\n",
    "!jupyter serverextension enable --py jupyterlab_git"
   ]
  },
  {
   "cell_type": "code",
   "execution_count": null,
   "id": "ee206c16-a042-4fe0-bcfa-6e388a1da97b",
   "metadata": {},
   "outputs": [],
   "source": []
  }
 ],
 "metadata": {
  "kernelspec": {
   "display_name": "Python 3 (ipykernel)",
   "language": "python",
   "name": "python3"
  },
  "language_info": {
   "codemirror_mode": {
    "name": "ipython",
    "version": 3
   },
   "file_extension": ".py",
   "mimetype": "text/x-python",
   "name": "python",
   "nbconvert_exporter": "python",
   "pygments_lexer": "ipython3",
   "version": "3.13.1"
  }
 },
 "nbformat": 4,
 "nbformat_minor": 5
}
